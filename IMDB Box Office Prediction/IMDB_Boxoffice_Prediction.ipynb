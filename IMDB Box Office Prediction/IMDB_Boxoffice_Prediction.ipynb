{
 "cells": [
  {
   "cell_type": "markdown",
   "id": "deee31c2",
   "metadata": {},
   "source": [
    "# Goal                 \n",
    "<!--  -->              \n",
    "The aim of this project is to predict the **Movie Box Office Revenue**            \n",
    "<!--  -->           \n",
    "# How will this project helps?           \n",
    "<!--  -->       \n",
    "* This project is for **Producers**,helping them to earn more money.investing on right movie script or genre."
   ]
  },
  {
   "cell_type": "code",
   "execution_count": 1,
   "id": "1ba37d85",
   "metadata": {},
   "outputs": [],
   "source": [
    "# Imoorting essential libraries\n",
    "import numpy as np\n",
    "import pandas as pd\n",
    "import matplotlib.pyplot as plt\n",
    "import seaborn as sns\n",
    "import warnings\n",
    "warnings.filterwarnings('ignore')\n",
    "\n",
    "import ast\n",
    "import datetime\n",
    "from collections import Counter"
   ]
  },
  {
   "cell_type": "code",
   "execution_count": 2,
   "id": "87fab7ef",
   "metadata": {},
   "outputs": [
    {
     "name": "stdout",
     "output_type": "stream",
     "text": [
      "C:\\users\\prave\\datasets\\csv files\\IMDB\n"
     ]
    }
   ],
   "source": [
    "cd/users/prave/datasets/csv files/IMDB/"
   ]
  },
  {
   "cell_type": "code",
   "execution_count": 3,
   "id": "b575bca6",
   "metadata": {},
   "outputs": [],
   "source": [
    "train=pd.read_csv('train.csv')\n",
    "test=pd.read_csv('test.csv')\n",
    "sub=pd.read_csv('sample_submission.csv')"
   ]
  },
  {
   "cell_type": "markdown",
   "id": "8eb947b5",
   "metadata": {},
   "source": [
    "# Exploring Datasets"
   ]
  },
  {
   "cell_type": "code",
   "execution_count": 4,
   "id": "5d347945",
   "metadata": {},
   "outputs": [
    {
     "name": "stdout",
     "output_type": "stream",
     "text": [
      "train dataset shape: (2400, 23)\n",
      "test dataset shape: (600, 22)\n"
     ]
    }
   ],
   "source": [
    "print('train dataset shape: {}'.format(train.shape))\n",
    "print(\"test dataset shape: {}\".format(test.shape))"
   ]
  },
  {
   "cell_type": "code",
   "execution_count": 5,
   "id": "01e38109",
   "metadata": {},
   "outputs": [
    {
     "data": {
      "text/html": [
       "<div>\n",
       "<style scoped>\n",
       "    .dataframe tbody tr th:only-of-type {\n",
       "        vertical-align: middle;\n",
       "    }\n",
       "\n",
       "    .dataframe tbody tr th {\n",
       "        vertical-align: top;\n",
       "    }\n",
       "\n",
       "    .dataframe thead th {\n",
       "        text-align: right;\n",
       "    }\n",
       "</style>\n",
       "<table border=\"1\" class=\"dataframe\">\n",
       "  <thead>\n",
       "    <tr style=\"text-align: right;\">\n",
       "      <th></th>\n",
       "      <th>id</th>\n",
       "      <th>belongs_to_collection</th>\n",
       "      <th>budget</th>\n",
       "      <th>genres</th>\n",
       "      <th>homepage</th>\n",
       "      <th>imdb_id</th>\n",
       "      <th>original_language</th>\n",
       "      <th>original_title</th>\n",
       "      <th>overview</th>\n",
       "      <th>popularity</th>\n",
       "      <th>...</th>\n",
       "      <th>release_date</th>\n",
       "      <th>runtime</th>\n",
       "      <th>spoken_languages</th>\n",
       "      <th>status</th>\n",
       "      <th>tagline</th>\n",
       "      <th>title</th>\n",
       "      <th>Keywords</th>\n",
       "      <th>cast</th>\n",
       "      <th>crew</th>\n",
       "      <th>revenue</th>\n",
       "    </tr>\n",
       "  </thead>\n",
       "  <tbody>\n",
       "    <tr>\n",
       "      <th>0</th>\n",
       "      <td>272</td>\n",
       "      <td>NaN</td>\n",
       "      <td>72500000</td>\n",
       "      <td>[{'id': 35, 'name': 'Comedy'}]</td>\n",
       "      <td>http://www.sonypictures.com/homevideo/talladeg...</td>\n",
       "      <td>tt0415306</td>\n",
       "      <td>en</td>\n",
       "      <td>Talladega Nights: The Ballad of Ricky Bobby</td>\n",
       "      <td>Lifelong friends and national idols Ricky Bobb...</td>\n",
       "      <td>6.936688</td>\n",
       "      <td>...</td>\n",
       "      <td>8/4/06</td>\n",
       "      <td>116.0</td>\n",
       "      <td>[{'iso_639_1': 'en', 'name': 'English'}]</td>\n",
       "      <td>Released</td>\n",
       "      <td>The story of a man who could only count to #1</td>\n",
       "      <td>Talladega Nights: The Ballad of Ricky Bobby</td>\n",
       "      <td>[{'id': 5922, 'name': 'north carolina'}, {'id'...</td>\n",
       "      <td>[{'cast_id': 8, 'character': 'Ricky Bobby', 'c...</td>\n",
       "      <td>[{'credit_id': '52fe4521c3a36847f80be20f', 'de...</td>\n",
       "      <td>162966177</td>\n",
       "    </tr>\n",
       "    <tr>\n",
       "      <th>1</th>\n",
       "      <td>2804</td>\n",
       "      <td>NaN</td>\n",
       "      <td>0</td>\n",
       "      <td>[{'id': 10751, 'name': 'Family'}, {'id': 28, '...</td>\n",
       "      <td>NaN</td>\n",
       "      <td>tt0305396</td>\n",
       "      <td>en</td>\n",
       "      <td>The Crocodile Hunter: Collision Course</td>\n",
       "      <td>Aussie adventurer Steve Irwin aka The Crocodil...</td>\n",
       "      <td>3.148745</td>\n",
       "      <td>...</td>\n",
       "      <td>7/26/02</td>\n",
       "      <td>90.0</td>\n",
       "      <td>[{'iso_639_1': 'en', 'name': 'English'}]</td>\n",
       "      <td>Released</td>\n",
       "      <td>His First Big-Screen Adventure!</td>\n",
       "      <td>The Crocodile Hunter: Collision Course</td>\n",
       "      <td>[{'id': 3185, 'name': 'crocodile'}]</td>\n",
       "      <td>[{'cast_id': 1, 'character': 'Himself', 'credi...</td>\n",
       "      <td>[{'credit_id': '52fe47019251416c7508ad2d', 'de...</td>\n",
       "      <td>33082548</td>\n",
       "    </tr>\n",
       "    <tr>\n",
       "      <th>2</th>\n",
       "      <td>2549</td>\n",
       "      <td>[{'id': 10456, 'name': 'Dirty Harry Collection...</td>\n",
       "      <td>0</td>\n",
       "      <td>[{'id': 28, 'name': 'Action'}, {'id': 80, 'nam...</td>\n",
       "      <td>NaN</td>\n",
       "      <td>tt0070355</td>\n",
       "      <td>en</td>\n",
       "      <td>Magnum Force</td>\n",
       "      <td>\"Dirty\" Harry Calahan is a San Francisco Polic...</td>\n",
       "      <td>10.226181</td>\n",
       "      <td>...</td>\n",
       "      <td>12/23/73</td>\n",
       "      <td>124.0</td>\n",
       "      <td>[{'iso_639_1': 'en', 'name': 'English'}, {'iso...</td>\n",
       "      <td>Released</td>\n",
       "      <td>A man's got to know his limitations.</td>\n",
       "      <td>Magnum Force</td>\n",
       "      <td>[{'id': 1679, 'name': 'arbitrary law'}, {'id':...</td>\n",
       "      <td>[{'cast_id': 1, 'character': 'Insp. Harry Cala...</td>\n",
       "      <td>[{'credit_id': '52fe439b9251416c7501701b', 'de...</td>\n",
       "      <td>39768000</td>\n",
       "    </tr>\n",
       "  </tbody>\n",
       "</table>\n",
       "<p>3 rows × 23 columns</p>\n",
       "</div>"
      ],
      "text/plain": [
       "     id                              belongs_to_collection    budget  \\\n",
       "0   272                                                NaN  72500000   \n",
       "1  2804                                                NaN         0   \n",
       "2  2549  [{'id': 10456, 'name': 'Dirty Harry Collection...         0   \n",
       "\n",
       "                                              genres  \\\n",
       "0                     [{'id': 35, 'name': 'Comedy'}]   \n",
       "1  [{'id': 10751, 'name': 'Family'}, {'id': 28, '...   \n",
       "2  [{'id': 28, 'name': 'Action'}, {'id': 80, 'nam...   \n",
       "\n",
       "                                            homepage    imdb_id  \\\n",
       "0  http://www.sonypictures.com/homevideo/talladeg...  tt0415306   \n",
       "1                                                NaN  tt0305396   \n",
       "2                                                NaN  tt0070355   \n",
       "\n",
       "  original_language                               original_title  \\\n",
       "0                en  Talladega Nights: The Ballad of Ricky Bobby   \n",
       "1                en       The Crocodile Hunter: Collision Course   \n",
       "2                en                                 Magnum Force   \n",
       "\n",
       "                                            overview  popularity  ...  \\\n",
       "0  Lifelong friends and national idols Ricky Bobb...    6.936688  ...   \n",
       "1  Aussie adventurer Steve Irwin aka The Crocodil...    3.148745  ...   \n",
       "2  \"Dirty\" Harry Calahan is a San Francisco Polic...   10.226181  ...   \n",
       "\n",
       "  release_date runtime                                   spoken_languages  \\\n",
       "0       8/4/06   116.0           [{'iso_639_1': 'en', 'name': 'English'}]   \n",
       "1      7/26/02    90.0           [{'iso_639_1': 'en', 'name': 'English'}]   \n",
       "2     12/23/73   124.0  [{'iso_639_1': 'en', 'name': 'English'}, {'iso...   \n",
       "\n",
       "     status                                        tagline  \\\n",
       "0  Released  The story of a man who could only count to #1   \n",
       "1  Released                His First Big-Screen Adventure!   \n",
       "2  Released           A man's got to know his limitations.   \n",
       "\n",
       "                                         title  \\\n",
       "0  Talladega Nights: The Ballad of Ricky Bobby   \n",
       "1       The Crocodile Hunter: Collision Course   \n",
       "2                                 Magnum Force   \n",
       "\n",
       "                                            Keywords  \\\n",
       "0  [{'id': 5922, 'name': 'north carolina'}, {'id'...   \n",
       "1                [{'id': 3185, 'name': 'crocodile'}]   \n",
       "2  [{'id': 1679, 'name': 'arbitrary law'}, {'id':...   \n",
       "\n",
       "                                                cast  \\\n",
       "0  [{'cast_id': 8, 'character': 'Ricky Bobby', 'c...   \n",
       "1  [{'cast_id': 1, 'character': 'Himself', 'credi...   \n",
       "2  [{'cast_id': 1, 'character': 'Insp. Harry Cala...   \n",
       "\n",
       "                                                crew    revenue  \n",
       "0  [{'credit_id': '52fe4521c3a36847f80be20f', 'de...  162966177  \n",
       "1  [{'credit_id': '52fe47019251416c7508ad2d', 'de...   33082548  \n",
       "2  [{'credit_id': '52fe439b9251416c7501701b', 'de...   39768000  \n",
       "\n",
       "[3 rows x 23 columns]"
      ]
     },
     "execution_count": 5,
     "metadata": {},
     "output_type": "execute_result"
    }
   ],
   "source": [
    "train.head(3)"
   ]
  },
  {
   "cell_type": "code",
   "execution_count": 6,
   "id": "096dc307",
   "metadata": {},
   "outputs": [
    {
     "data": {
      "text/html": [
       "<div>\n",
       "<style scoped>\n",
       "    .dataframe tbody tr th:only-of-type {\n",
       "        vertical-align: middle;\n",
       "    }\n",
       "\n",
       "    .dataframe tbody tr th {\n",
       "        vertical-align: top;\n",
       "    }\n",
       "\n",
       "    .dataframe thead th {\n",
       "        text-align: right;\n",
       "    }\n",
       "</style>\n",
       "<table border=\"1\" class=\"dataframe\">\n",
       "  <thead>\n",
       "    <tr style=\"text-align: right;\">\n",
       "      <th></th>\n",
       "      <th>id</th>\n",
       "      <th>belongs_to_collection</th>\n",
       "      <th>budget</th>\n",
       "      <th>genres</th>\n",
       "      <th>homepage</th>\n",
       "      <th>imdb_id</th>\n",
       "      <th>original_language</th>\n",
       "      <th>original_title</th>\n",
       "      <th>overview</th>\n",
       "      <th>popularity</th>\n",
       "      <th>...</th>\n",
       "      <th>production_countries</th>\n",
       "      <th>release_date</th>\n",
       "      <th>runtime</th>\n",
       "      <th>spoken_languages</th>\n",
       "      <th>status</th>\n",
       "      <th>tagline</th>\n",
       "      <th>title</th>\n",
       "      <th>Keywords</th>\n",
       "      <th>cast</th>\n",
       "      <th>crew</th>\n",
       "    </tr>\n",
       "  </thead>\n",
       "  <tbody>\n",
       "    <tr>\n",
       "      <th>0</th>\n",
       "      <td>2175</td>\n",
       "      <td>NaN</td>\n",
       "      <td>0</td>\n",
       "      <td>[{'id': 35, 'name': 'Comedy'}, {'id': 18, 'nam...</td>\n",
       "      <td>NaN</td>\n",
       "      <td>tt0117214</td>\n",
       "      <td>fa</td>\n",
       "      <td>نون و گلدون</td>\n",
       "      <td>A semi-autobiographical account of Makmahlbaf'...</td>\n",
       "      <td>1.342194</td>\n",
       "      <td>...</td>\n",
       "      <td>[{'iso_3166_1': 'IR', 'name': 'Iran'}, {'iso_3...</td>\n",
       "      <td>8/13/96</td>\n",
       "      <td>78.0</td>\n",
       "      <td>[{'iso_639_1': 'fa', 'name': 'فارسی'}]</td>\n",
       "      <td>Released</td>\n",
       "      <td>NaN</td>\n",
       "      <td>A Moment of Innocence</td>\n",
       "      <td>[{'id': 1419, 'name': 'gun'}, {'id': 1442, 'na...</td>\n",
       "      <td>[{'cast_id': 2, 'character': 'The Policeman', ...</td>\n",
       "      <td>[{'credit_id': '52fe466ec3a36847f80fecaf', 'de...</td>\n",
       "    </tr>\n",
       "    <tr>\n",
       "      <th>1</th>\n",
       "      <td>2564</td>\n",
       "      <td>NaN</td>\n",
       "      <td>7400000</td>\n",
       "      <td>[{'id': 18, 'name': 'Drama'}, {'id': 10749, 'n...</td>\n",
       "      <td>NaN</td>\n",
       "      <td>tt0449999</td>\n",
       "      <td>hi</td>\n",
       "      <td>कभी अलविदा ना कहना</td>\n",
       "      <td>Dev and Maya are both married to different peo...</td>\n",
       "      <td>2.372520</td>\n",
       "      <td>...</td>\n",
       "      <td>[{'iso_3166_1': 'IN', 'name': 'India'}]</td>\n",
       "      <td>8/11/06</td>\n",
       "      <td>193.0</td>\n",
       "      <td>[{'iso_639_1': 'en', 'name': 'English'}, {'iso...</td>\n",
       "      <td>Released</td>\n",
       "      <td>A Love.... That Broke All Relationships</td>\n",
       "      <td>Kabhi Alvida Naa Kehna</td>\n",
       "      <td>[{'id': 596, 'name': 'adultery'}, {'id': 34094...</td>\n",
       "      <td>[{'cast_id': 1, 'character': 'Dev Saran', 'cre...</td>\n",
       "      <td>[{'credit_id': '52fe45ee9251416c75067637', 'de...</td>\n",
       "    </tr>\n",
       "    <tr>\n",
       "      <th>2</th>\n",
       "      <td>1493</td>\n",
       "      <td>NaN</td>\n",
       "      <td>25000000</td>\n",
       "      <td>[{'id': 35, 'name': 'Comedy'}, {'id': 10749, '...</td>\n",
       "      <td>http://www.nostringsattachedmovie.com/</td>\n",
       "      <td>tt1411238</td>\n",
       "      <td>en</td>\n",
       "      <td>No Strings Attached</td>\n",
       "      <td>Emma is a busy doctor who sets up a seemingly ...</td>\n",
       "      <td>8.880570</td>\n",
       "      <td>...</td>\n",
       "      <td>[{'iso_3166_1': 'US', 'name': 'United States o...</td>\n",
       "      <td>1/21/11</td>\n",
       "      <td>107.0</td>\n",
       "      <td>[{'iso_639_1': 'en', 'name': 'English'}]</td>\n",
       "      <td>Released</td>\n",
       "      <td>Friendship has its benefits.</td>\n",
       "      <td>No Strings Attached</td>\n",
       "      <td>[{'id': 494, 'name': 'father son relationship'...</td>\n",
       "      <td>[{'cast_id': 14, 'character': 'Emma Kurtzman',...</td>\n",
       "      <td>[{'credit_id': '58af1db8c3a3684605000048', 'de...</td>\n",
       "    </tr>\n",
       "  </tbody>\n",
       "</table>\n",
       "<p>3 rows × 22 columns</p>\n",
       "</div>"
      ],
      "text/plain": [
       "     id belongs_to_collection    budget  \\\n",
       "0  2175                   NaN         0   \n",
       "1  2564                   NaN   7400000   \n",
       "2  1493                   NaN  25000000   \n",
       "\n",
       "                                              genres  \\\n",
       "0  [{'id': 35, 'name': 'Comedy'}, {'id': 18, 'nam...   \n",
       "1  [{'id': 18, 'name': 'Drama'}, {'id': 10749, 'n...   \n",
       "2  [{'id': 35, 'name': 'Comedy'}, {'id': 10749, '...   \n",
       "\n",
       "                                 homepage    imdb_id original_language  \\\n",
       "0                                     NaN  tt0117214                fa   \n",
       "1                                     NaN  tt0449999                hi   \n",
       "2  http://www.nostringsattachedmovie.com/  tt1411238                en   \n",
       "\n",
       "        original_title                                           overview  \\\n",
       "0          نون و گلدون  A semi-autobiographical account of Makmahlbaf'...   \n",
       "1   कभी अलविदा ना कहना  Dev and Maya are both married to different peo...   \n",
       "2  No Strings Attached  Emma is a busy doctor who sets up a seemingly ...   \n",
       "\n",
       "   popularity  ...                               production_countries  \\\n",
       "0    1.342194  ...  [{'iso_3166_1': 'IR', 'name': 'Iran'}, {'iso_3...   \n",
       "1    2.372520  ...            [{'iso_3166_1': 'IN', 'name': 'India'}]   \n",
       "2    8.880570  ...  [{'iso_3166_1': 'US', 'name': 'United States o...   \n",
       "\n",
       "  release_date runtime                                   spoken_languages  \\\n",
       "0      8/13/96    78.0             [{'iso_639_1': 'fa', 'name': 'فارسی'}]   \n",
       "1      8/11/06   193.0  [{'iso_639_1': 'en', 'name': 'English'}, {'iso...   \n",
       "2      1/21/11   107.0           [{'iso_639_1': 'en', 'name': 'English'}]   \n",
       "\n",
       "     status                                  tagline                   title  \\\n",
       "0  Released                                      NaN   A Moment of Innocence   \n",
       "1  Released  A Love.... That Broke All Relationships  Kabhi Alvida Naa Kehna   \n",
       "2  Released             Friendship has its benefits.     No Strings Attached   \n",
       "\n",
       "                                            Keywords  \\\n",
       "0  [{'id': 1419, 'name': 'gun'}, {'id': 1442, 'na...   \n",
       "1  [{'id': 596, 'name': 'adultery'}, {'id': 34094...   \n",
       "2  [{'id': 494, 'name': 'father son relationship'...   \n",
       "\n",
       "                                                cast  \\\n",
       "0  [{'cast_id': 2, 'character': 'The Policeman', ...   \n",
       "1  [{'cast_id': 1, 'character': 'Dev Saran', 'cre...   \n",
       "2  [{'cast_id': 14, 'character': 'Emma Kurtzman',...   \n",
       "\n",
       "                                                crew  \n",
       "0  [{'credit_id': '52fe466ec3a36847f80fecaf', 'de...  \n",
       "1  [{'credit_id': '52fe45ee9251416c75067637', 'de...  \n",
       "2  [{'credit_id': '58af1db8c3a3684605000048', 'de...  \n",
       "\n",
       "[3 rows x 22 columns]"
      ]
     },
     "execution_count": 6,
     "metadata": {},
     "output_type": "execute_result"
    }
   ],
   "source": [
    "test.head(3)"
   ]
  },
  {
   "cell_type": "code",
   "execution_count": 7,
   "id": "17f8ffd0",
   "metadata": {},
   "outputs": [],
   "source": [
    "# Merging the train and test dataset for EDA      \n",
    "train['test_data']=0\n",
    "test['test_data']=1\n",
    "test['revenue']=np.NaN\n",
    "\n",
    "df=pd.concat([train,test])"
   ]
  },
  {
   "cell_type": "code",
   "execution_count": 8,
   "id": "ee45dca1",
   "metadata": {},
   "outputs": [
    {
     "name": "stdout",
     "output_type": "stream",
     "text": [
      "<class 'pandas.core.frame.DataFrame'>\n",
      "Int64Index: 3000 entries, 0 to 599\n",
      "Data columns (total 24 columns):\n",
      " #   Column                 Non-Null Count  Dtype  \n",
      "---  ------                 --------------  -----  \n",
      " 0   id                     3000 non-null   int64  \n",
      " 1   belongs_to_collection  604 non-null    object \n",
      " 2   budget                 3000 non-null   int64  \n",
      " 3   genres                 2993 non-null   object \n",
      " 4   homepage               946 non-null    object \n",
      " 5   imdb_id                3000 non-null   object \n",
      " 6   original_language      3000 non-null   object \n",
      " 7   original_title         3000 non-null   object \n",
      " 8   overview               2992 non-null   object \n",
      " 9   popularity             3000 non-null   float64\n",
      " 10  poster_path            2999 non-null   object \n",
      " 11  production_companies   2844 non-null   object \n",
      " 12  production_countries   2945 non-null   object \n",
      " 13  release_date           3000 non-null   object \n",
      " 14  runtime                2998 non-null   float64\n",
      " 15  spoken_languages       2980 non-null   object \n",
      " 16  status                 3000 non-null   object \n",
      " 17  tagline                2403 non-null   object \n",
      " 18  title                  3000 non-null   object \n",
      " 19  Keywords               2724 non-null   object \n",
      " 20  cast                   2987 non-null   object \n",
      " 21  crew                   2984 non-null   object \n",
      " 22  revenue                2400 non-null   float64\n",
      " 23  test_data              3000 non-null   int64  \n",
      "dtypes: float64(3), int64(3), object(18)\n",
      "memory usage: 585.9+ KB\n"
     ]
    }
   ],
   "source": [
    "df.info()"
   ]
  },
  {
   "cell_type": "code",
   "execution_count": 9,
   "id": "8f8fffb2",
   "metadata": {},
   "outputs": [
    {
     "data": {
      "text/plain": [
       "id                         int64\n",
       "belongs_to_collection     object\n",
       "budget                     int64\n",
       "genres                    object\n",
       "homepage                  object\n",
       "imdb_id                   object\n",
       "original_language         object\n",
       "original_title            object\n",
       "overview                  object\n",
       "popularity               float64\n",
       "poster_path               object\n",
       "production_companies      object\n",
       "production_countries      object\n",
       "release_date              object\n",
       "runtime                  float64\n",
       "spoken_languages          object\n",
       "status                    object\n",
       "tagline                   object\n",
       "title                     object\n",
       "Keywords                  object\n",
       "cast                      object\n",
       "crew                      object\n",
       "revenue                  float64\n",
       "test_data                  int64\n",
       "dtype: object"
      ]
     },
     "execution_count": 9,
     "metadata": {},
     "output_type": "execute_result"
    }
   ],
   "source": [
    "df.dtypes"
   ]
  },
  {
   "cell_type": "code",
   "execution_count": 10,
   "id": "937157ea",
   "metadata": {},
   "outputs": [
    {
     "data": {
      "text/plain": [
       "belongs_to_collection    2396\n",
       "homepage                 2054\n",
       "revenue                   600\n",
       "tagline                   597\n",
       "Keywords                  276\n",
       "production_companies      156\n",
       "production_countries       55\n",
       "spoken_languages           20\n",
       "crew                       16\n",
       "cast                       13\n",
       "overview                    8\n",
       "genres                      7\n",
       "runtime                     2\n",
       "poster_path                 1\n",
       "status                      0\n",
       "title                       0\n",
       "id                          0\n",
       "release_date                0\n",
       "popularity                  0\n",
       "original_title              0\n",
       "original_language           0\n",
       "imdb_id                     0\n",
       "budget                      0\n",
       "test_data                   0\n",
       "dtype: int64"
      ]
     },
     "execution_count": 10,
     "metadata": {},
     "output_type": "execute_result"
    }
   ],
   "source": [
    "# checking null values\n",
    "df.isna().sum().sort_values(ascending=False)"
   ]
  },
  {
   "cell_type": "markdown",
   "id": "05ce6ec3",
   "metadata": {},
   "source": [
    "**Note:** Removing belongs_to_collection & home page features.because,the contain more than 60% NaN values."
   ]
  },
  {
   "cell_type": "code",
   "execution_count": 11,
   "id": "ef601528",
   "metadata": {},
   "outputs": [
    {
     "data": {
      "text/html": [
       "<div>\n",
       "<style scoped>\n",
       "    .dataframe tbody tr th:only-of-type {\n",
       "        vertical-align: middle;\n",
       "    }\n",
       "\n",
       "    .dataframe tbody tr th {\n",
       "        vertical-align: top;\n",
       "    }\n",
       "\n",
       "    .dataframe thead th {\n",
       "        text-align: right;\n",
       "    }\n",
       "</style>\n",
       "<table border=\"1\" class=\"dataframe\">\n",
       "  <thead>\n",
       "    <tr style=\"text-align: right;\">\n",
       "      <th></th>\n",
       "      <th>count</th>\n",
       "      <th>mean</th>\n",
       "      <th>std</th>\n",
       "      <th>min</th>\n",
       "      <th>25%</th>\n",
       "      <th>50%</th>\n",
       "      <th>75%</th>\n",
       "      <th>max</th>\n",
       "    </tr>\n",
       "  </thead>\n",
       "  <tbody>\n",
       "    <tr>\n",
       "      <th>id</th>\n",
       "      <td>3000.0</td>\n",
       "      <td>1.500500e+03</td>\n",
       "      <td>8.661697e+02</td>\n",
       "      <td>1.000000</td>\n",
       "      <td>7.507500e+02</td>\n",
       "      <td>1.500500e+03</td>\n",
       "      <td>2.250250e+03</td>\n",
       "      <td>3.000000e+03</td>\n",
       "    </tr>\n",
       "    <tr>\n",
       "      <th>budget</th>\n",
       "      <td>3000.0</td>\n",
       "      <td>2.253133e+07</td>\n",
       "      <td>3.702609e+07</td>\n",
       "      <td>0.000000</td>\n",
       "      <td>0.000000e+00</td>\n",
       "      <td>8.000000e+06</td>\n",
       "      <td>2.900000e+07</td>\n",
       "      <td>3.800000e+08</td>\n",
       "    </tr>\n",
       "    <tr>\n",
       "      <th>popularity</th>\n",
       "      <td>3000.0</td>\n",
       "      <td>8.463274e+00</td>\n",
       "      <td>1.210400e+01</td>\n",
       "      <td>0.000001</td>\n",
       "      <td>4.018053e+00</td>\n",
       "      <td>7.374861e+00</td>\n",
       "      <td>1.089098e+01</td>\n",
       "      <td>2.943370e+02</td>\n",
       "    </tr>\n",
       "    <tr>\n",
       "      <th>runtime</th>\n",
       "      <td>2998.0</td>\n",
       "      <td>1.078566e+02</td>\n",
       "      <td>2.208643e+01</td>\n",
       "      <td>0.000000</td>\n",
       "      <td>9.400000e+01</td>\n",
       "      <td>1.040000e+02</td>\n",
       "      <td>1.180000e+02</td>\n",
       "      <td>3.380000e+02</td>\n",
       "    </tr>\n",
       "    <tr>\n",
       "      <th>revenue</th>\n",
       "      <td>2400.0</td>\n",
       "      <td>6.765008e+07</td>\n",
       "      <td>1.361038e+08</td>\n",
       "      <td>1.000000</td>\n",
       "      <td>2.402361e+06</td>\n",
       "      <td>1.704623e+07</td>\n",
       "      <td>7.173634e+07</td>\n",
       "      <td>1.519558e+09</td>\n",
       "    </tr>\n",
       "    <tr>\n",
       "      <th>test_data</th>\n",
       "      <td>3000.0</td>\n",
       "      <td>2.000000e-01</td>\n",
       "      <td>4.000667e-01</td>\n",
       "      <td>0.000000</td>\n",
       "      <td>0.000000e+00</td>\n",
       "      <td>0.000000e+00</td>\n",
       "      <td>0.000000e+00</td>\n",
       "      <td>1.000000e+00</td>\n",
       "    </tr>\n",
       "  </tbody>\n",
       "</table>\n",
       "</div>"
      ],
      "text/plain": [
       "             count          mean           std       min           25%  \\\n",
       "id          3000.0  1.500500e+03  8.661697e+02  1.000000  7.507500e+02   \n",
       "budget      3000.0  2.253133e+07  3.702609e+07  0.000000  0.000000e+00   \n",
       "popularity  3000.0  8.463274e+00  1.210400e+01  0.000001  4.018053e+00   \n",
       "runtime     2998.0  1.078566e+02  2.208643e+01  0.000000  9.400000e+01   \n",
       "revenue     2400.0  6.765008e+07  1.361038e+08  1.000000  2.402361e+06   \n",
       "test_data   3000.0  2.000000e-01  4.000667e-01  0.000000  0.000000e+00   \n",
       "\n",
       "                     50%           75%           max  \n",
       "id          1.500500e+03  2.250250e+03  3.000000e+03  \n",
       "budget      8.000000e+06  2.900000e+07  3.800000e+08  \n",
       "popularity  7.374861e+00  1.089098e+01  2.943370e+02  \n",
       "runtime     1.040000e+02  1.180000e+02  3.380000e+02  \n",
       "revenue     1.704623e+07  7.173634e+07  1.519558e+09  \n",
       "test_data   0.000000e+00  0.000000e+00  1.000000e+00  "
      ]
     },
     "execution_count": 11,
     "metadata": {},
     "output_type": "execute_result"
    }
   ],
   "source": [
    "df.describe().T"
   ]
  },
  {
   "cell_type": "markdown",
   "id": "826dfede",
   "metadata": {},
   "source": [
    "# Exploratory Data Analysis & Data Cleaning                 \n",
    "<!--  -->              \n",
    "* Plotting bargraphs and countplots for numeric and categorical features       \n",
    "* Handling NaN/Missing values        \n",
    "* Remove unwanted columns\n",
    "* Removing alphabets/speical characters form the features"
   ]
  },
  {
   "cell_type": "code",
   "execution_count": 12,
   "id": "e547273a",
   "metadata": {},
   "outputs": [],
   "source": [
    "# Removing unwanted columns\n",
    "df.drop(['belongs_to_collection','homepage','poster_path','original_title','tagline','overview','imdb_id','title'],axis=1,inplace=True)"
   ]
  },
  {
   "cell_type": "code",
   "execution_count": 13,
   "id": "3f822a25",
   "metadata": {},
   "outputs": [],
   "source": [
    "dict_columns = ['genres', 'production_companies','production_countries', 'spoken_languages', 'Keywords', 'cast', 'crew']\n",
    "\n",
    "def text_to_dict(df):\n",
    "    for column in dict_columns:\n",
    "        df[column] = df[column].apply(lambda x: {} if pd.isna(x) else ast.literal_eval(x) )\n",
    "    return df\n",
    "df=text_to_dict(df)"
   ]
  },
  {
   "cell_type": "markdown",
   "id": "364b162b",
   "metadata": {},
   "source": [
    "**Genre**"
   ]
  },
  {
   "cell_type": "code",
   "execution_count": 14,
   "id": "a304d63d",
   "metadata": {},
   "outputs": [
    {
     "data": {
      "text/plain": [
       "0                       [Comedy]\n",
       "1    [Family, Action, Adventure]\n",
       "2      [Action, Crime, Thriller]\n",
       "3                        [Drama]\n",
       "4           [Documentary, Music]\n",
       "Name: genres, dtype: object"
      ]
     },
     "execution_count": 14,
     "metadata": {},
     "output_type": "execute_result"
    }
   ],
   "source": [
    "genre=df['genres'].apply(lambda x:[i['name'] for i in x] if x!={} else [])\n",
    "genre.head()"
   ]
  },
  {
   "cell_type": "code",
   "execution_count": 15,
   "id": "8ba8ed8d",
   "metadata": {},
   "outputs": [
    {
     "data": {
      "text/plain": [
       "Counter({'Comedy': 1028,\n",
       "         'Family': 260,\n",
       "         'Action': 741,\n",
       "         'Adventure': 439,\n",
       "         'Crime': 469,\n",
       "         'Thriller': 789,\n",
       "         'Drama': 1531,\n",
       "         'Documentary': 87,\n",
       "         'Music': 100,\n",
       "         'History': 132,\n",
       "         'Horror': 301,\n",
       "         'Fantasy': 232,\n",
       "         'Science Fiction': 290,\n",
       "         'Foreign': 31,\n",
       "         'Animation': 141,\n",
       "         'Mystery': 225,\n",
       "         'Romance': 571,\n",
       "         'War': 100,\n",
       "         'Western': 43,\n",
       "         'TV Movie': 1})"
      ]
     },
     "execution_count": 15,
     "metadata": {},
     "output_type": "execute_result"
    }
   ],
   "source": [
    "Counter([i for j in genre for i in j])"
   ]
  },
  {
   "cell_type": "code",
   "execution_count": 16,
   "id": "cdb60b1a",
   "metadata": {},
   "outputs": [
    {
     "data": {
      "text/plain": [
       "['Drama',\n",
       " 'Comedy',\n",
       " 'Thriller',\n",
       " 'Action',\n",
       " 'Romance',\n",
       " 'Crime',\n",
       " 'Adventure',\n",
       " 'Horror',\n",
       " 'Science Fiction',\n",
       " 'Family']"
      ]
     },
     "execution_count": 16,
     "metadata": {},
     "output_type": "execute_result"
    }
   ],
   "source": [
    "top_genres=[m[0] for m in Counter([i for j in genre for i in j]).most_common(10)]\n",
    "top_genres"
   ]
  },
  {
   "cell_type": "code",
   "execution_count": 17,
   "id": "664eb620",
   "metadata": {},
   "outputs": [],
   "source": [
    "# Creating new feature for genre\n",
    "for g in top_genres:\n",
    "    df['genres_'+g]=df['genres'].apply(lambda x:1 if g in [i['name'] for i in x] else 0)\n",
    "df.drop('genres',axis=1,inplace=True)"
   ]
  },
  {
   "cell_type": "markdown",
   "id": "41d79150",
   "metadata": {},
   "source": [
    "**Production_countries**"
   ]
  },
  {
   "cell_type": "code",
   "execution_count": 18,
   "id": "0c1e14f6",
   "metadata": {},
   "outputs": [
    {
     "data": {
      "text/plain": [
       "0               [United States of America]\n",
       "1    [Australia, United States of America]\n",
       "2               [United States of America]\n",
       "3                                       []\n",
       "4                         [United Kingdom]\n",
       "Name: production_countries, dtype: object"
      ]
     },
     "execution_count": 18,
     "metadata": {},
     "output_type": "execute_result"
    }
   ],
   "source": [
    "countries=df['production_countries'].apply(lambda x:[i['name'] for i in x] if x!={} else [])\n",
    "countries.head()"
   ]
  },
  {
   "cell_type": "code",
   "execution_count": 19,
   "id": "dd164a09",
   "metadata": {},
   "outputs": [
    {
     "data": {
      "text/plain": [
       "Counter({'United States of America': 2282,\n",
       "         'Australia': 61,\n",
       "         'United Kingdom': 380,\n",
       "         'South Korea': 22,\n",
       "         'India': 81,\n",
       "         'France': 222,\n",
       "         'Japan': 61,\n",
       "         'Canada': 120,\n",
       "         'Italy': 64,\n",
       "         'Spain': 54,\n",
       "         'Germany': 167,\n",
       "         'China': 42,\n",
       "         'Switzerland': 8,\n",
       "         'Israel': 5,\n",
       "         'Czech Republic': 14,\n",
       "         'Romania': 8,\n",
       "         'Denmark': 13,\n",
       "         'Sweden': 18,\n",
       "         'Ireland': 23,\n",
       "         'Turkey': 5,\n",
       "         'Russia': 58,\n",
       "         'New Zealand': 17,\n",
       "         'Mongolia': 1,\n",
       "         'Netherlands': 15,\n",
       "         'Hong Kong': 42,\n",
       "         'Malta': 2,\n",
       "         'Morocco': 3,\n",
       "         'Luxembourg': 10,\n",
       "         'Mexico': 19,\n",
       "         'South Africa': 10,\n",
       "         'Brazil': 12,\n",
       "         'Ukraine': 2,\n",
       "         'Greece': 7,\n",
       "         'Belgium': 23,\n",
       "         'Iran': 5,\n",
       "         'Chile': 6,\n",
       "         'Philippines': 3,\n",
       "         'Croatia': 1,\n",
       "         'Ethiopia': 1,\n",
       "         'Bulgaria': 3,\n",
       "         'Cambodia': 2,\n",
       "         'Poland': 5,\n",
       "         'Singapore': 2,\n",
       "         'Finland': 6,\n",
       "         'Hungary': 9,\n",
       "         'Cyprus': 1,\n",
       "         'United Arab Emirates': 9,\n",
       "         'Norway': 7,\n",
       "         'Taiwan': 3,\n",
       "         'Bahamas': 3,\n",
       "         'Austria': 8,\n",
       "         'Uruguay': 1,\n",
       "         'Paraguay': 1,\n",
       "         'Saudi Arabia': 1,\n",
       "         'Jordan': 1,\n",
       "         'Burkina Faso': 1,\n",
       "         'Ghana': 1,\n",
       "         'Iceland': 2,\n",
       "         'Argentina': 6,\n",
       "         'Slovenia': 1,\n",
       "         'Serbia': 2,\n",
       "         'Mauritania': 1,\n",
       "         'Costa Rica': 1,\n",
       "         'Algeria': 1,\n",
       "         'Pakistan': 2,\n",
       "         'Puerto Rico': 1,\n",
       "         'Qatar': 2,\n",
       "         'Tunisia': 2,\n",
       "         'Bosnia and Herzegovina': 1,\n",
       "         'Indonesia': 2,\n",
       "         'Namibia': 1,\n",
       "         'Serbia and Montenegro': 1,\n",
       "         'Peru': 1,\n",
       "         'Portugal': 1})"
      ]
     },
     "execution_count": 19,
     "metadata": {},
     "output_type": "execute_result"
    }
   ],
   "source": [
    "Counter([i for j in countries for i in  j])"
   ]
  },
  {
   "cell_type": "code",
   "execution_count": 20,
   "id": "57511810",
   "metadata": {},
   "outputs": [
    {
     "data": {
      "text/plain": [
       "['United States of America',\n",
       " 'United Kingdom',\n",
       " 'France',\n",
       " 'Germany',\n",
       " 'Canada',\n",
       " 'India',\n",
       " 'Italy']"
      ]
     },
     "execution_count": 20,
     "metadata": {},
     "output_type": "execute_result"
    }
   ],
   "source": [
    "top_countries=[m[0] for m in Counter([i for j in countries for i in j]).most_common(7)]\n",
    "top_countries"
   ]
  },
  {
   "cell_type": "code",
   "execution_count": 21,
   "id": "dcf3fff7",
   "metadata": {},
   "outputs": [],
   "source": [
    "# creating  new feature on countries\n",
    "for c in top_countries:\n",
    "    df['production_countries_'+c]=df['production_countries'].apply(lambda x:1 if c in [i['name'] for i in x] else 0)\n",
    "df.drop('production_countries',axis=1,inplace=True)"
   ]
  },
  {
   "cell_type": "markdown",
   "id": "1a76eb2f",
   "metadata": {},
   "source": [
    "**original_languages**"
   ]
  },
  {
   "cell_type": "code",
   "execution_count": 22,
   "id": "7cd273bb",
   "metadata": {},
   "outputs": [
    {
     "data": {
      "text/plain": [
       "0    en\n",
       "1    en\n",
       "2    en\n",
       "3    en\n",
       "4    en\n",
       "Name: original_language, dtype: object"
      ]
     },
     "execution_count": 22,
     "metadata": {},
     "output_type": "execute_result"
    }
   ],
   "source": [
    "lang=df['original_language'].apply(lambda x:x if x!={} else [])\n",
    "lang.head()"
   ]
  },
  {
   "cell_type": "code",
   "execution_count": 23,
   "id": "0dad43fc",
   "metadata": {},
   "outputs": [
    {
     "data": {
      "text/plain": [
       "Counter({'en': 2575,\n",
       "         'ko': 20,\n",
       "         'ta': 16,\n",
       "         'ja': 37,\n",
       "         'fr': 78,\n",
       "         'te': 2,\n",
       "         'it': 24,\n",
       "         'he': 1,\n",
       "         'es': 43,\n",
       "         'sv': 8,\n",
       "         'hi': 42,\n",
       "         'ru': 47,\n",
       "         'pt': 6,\n",
       "         'cn': 20,\n",
       "         'ro': 4,\n",
       "         'fa': 5,\n",
       "         'de': 18,\n",
       "         'zh': 19,\n",
       "         'da': 5,\n",
       "         'fi': 2,\n",
       "         'hu': 3,\n",
       "         'nl': 6,\n",
       "         'no': 2,\n",
       "         'ar': 1,\n",
       "         'el': 1,\n",
       "         'sr': 1,\n",
       "         'pl': 2,\n",
       "         'mr': 1,\n",
       "         'tr': 3,\n",
       "         'ur': 1,\n",
       "         'nb': 1,\n",
       "         'ml': 2,\n",
       "         'id': 1,\n",
       "         'cs': 1,\n",
       "         'bn': 1,\n",
       "         'vi': 1})"
      ]
     },
     "execution_count": 23,
     "metadata": {},
     "output_type": "execute_result"
    }
   ],
   "source": [
    "Counter(lang)"
   ]
  },
  {
   "cell_type": "code",
   "execution_count": 24,
   "id": "4dd6594d",
   "metadata": {},
   "outputs": [
    {
     "data": {
      "text/plain": [
       "['en', 'fr', 'ru', 'es', 'hi']"
      ]
     },
     "execution_count": 24,
     "metadata": {},
     "output_type": "execute_result"
    }
   ],
   "source": [
    "top_lang=[m[0] for m in Counter(lang).most_common(5)]\n",
    "top_lang"
   ]
  },
  {
   "cell_type": "code",
   "execution_count": 25,
   "id": "9d80acb1",
   "metadata": {},
   "outputs": [],
   "source": [
    "# creating new feature for original_language\n",
    "for l in top_lang:\n",
    "    df['original_language_'+l]=df['original_language'].apply(lambda x:1 if l in x!={} else 0)\n",
    "df.drop('original_language',axis=1,inplace=True)"
   ]
  },
  {
   "cell_type": "code",
   "execution_count": 26,
   "id": "81cce1ec",
   "metadata": {},
   "outputs": [],
   "source": [
    "# convert relased as 1 and rumored as 0\n",
    "df['released']=df['status'].apply(lambda x:1 if x=='Released' else 0)\n",
    "df.drop('status',axis=1,inplace=True)"
   ]
  },
  {
   "cell_type": "code",
   "execution_count": 27,
   "id": "acb93e62",
   "metadata": {},
   "outputs": [],
   "source": [
    "# convert release date to timestamp\n",
    "df['release_date']=pd.to_datetime(df['release_date'])"
   ]
  },
  {
   "cell_type": "code",
   "execution_count": 28,
   "id": "24f60b4f",
   "metadata": {},
   "outputs": [],
   "source": [
    "df['release_date']=df['release_date'].map(pd.datetime.toordinal)"
   ]
  },
  {
   "cell_type": "code",
   "execution_count": 29,
   "id": "5a0f6ac5",
   "metadata": {},
   "outputs": [],
   "source": [
    "df.drop(['production_companies','id','spoken_languages','Keywords','cast','crew'],axis=1,inplace=True)"
   ]
  },
  {
   "cell_type": "code",
   "execution_count": 30,
   "id": "65555bd3",
   "metadata": {},
   "outputs": [],
   "source": [
    "df['runtime'].fillna(df['runtime'].median(),inplace=True)"
   ]
  },
  {
   "cell_type": "code",
   "execution_count": 31,
   "id": "64b4ecbe",
   "metadata": {},
   "outputs": [
    {
     "data": {
      "text/html": [
       "<div>\n",
       "<style scoped>\n",
       "    .dataframe tbody tr th:only-of-type {\n",
       "        vertical-align: middle;\n",
       "    }\n",
       "\n",
       "    .dataframe tbody tr th {\n",
       "        vertical-align: top;\n",
       "    }\n",
       "\n",
       "    .dataframe thead th {\n",
       "        text-align: right;\n",
       "    }\n",
       "</style>\n",
       "<table border=\"1\" class=\"dataframe\">\n",
       "  <thead>\n",
       "    <tr style=\"text-align: right;\">\n",
       "      <th></th>\n",
       "      <th>budget</th>\n",
       "      <th>popularity</th>\n",
       "      <th>release_date</th>\n",
       "      <th>runtime</th>\n",
       "      <th>revenue</th>\n",
       "      <th>test_data</th>\n",
       "      <th>genres_Drama</th>\n",
       "      <th>genres_Comedy</th>\n",
       "      <th>genres_Thriller</th>\n",
       "      <th>genres_Action</th>\n",
       "      <th>...</th>\n",
       "      <th>production_countries_Germany</th>\n",
       "      <th>production_countries_Canada</th>\n",
       "      <th>production_countries_India</th>\n",
       "      <th>production_countries_Italy</th>\n",
       "      <th>original_language_en</th>\n",
       "      <th>original_language_fr</th>\n",
       "      <th>original_language_ru</th>\n",
       "      <th>original_language_es</th>\n",
       "      <th>original_language_hi</th>\n",
       "      <th>released</th>\n",
       "    </tr>\n",
       "  </thead>\n",
       "  <tbody>\n",
       "    <tr>\n",
       "      <th>0</th>\n",
       "      <td>72500000</td>\n",
       "      <td>6.936688</td>\n",
       "      <td>732527</td>\n",
       "      <td>116.0</td>\n",
       "      <td>162966177.0</td>\n",
       "      <td>0</td>\n",
       "      <td>0</td>\n",
       "      <td>1</td>\n",
       "      <td>0</td>\n",
       "      <td>0</td>\n",
       "      <td>...</td>\n",
       "      <td>0</td>\n",
       "      <td>0</td>\n",
       "      <td>0</td>\n",
       "      <td>0</td>\n",
       "      <td>1</td>\n",
       "      <td>0</td>\n",
       "      <td>0</td>\n",
       "      <td>0</td>\n",
       "      <td>0</td>\n",
       "      <td>1</td>\n",
       "    </tr>\n",
       "  </tbody>\n",
       "</table>\n",
       "<p>1 rows × 29 columns</p>\n",
       "</div>"
      ],
      "text/plain": [
       "     budget  popularity  release_date  runtime      revenue  test_data  \\\n",
       "0  72500000    6.936688        732527    116.0  162966177.0          0   \n",
       "\n",
       "   genres_Drama  genres_Comedy  genres_Thriller  genres_Action  ...  \\\n",
       "0             0              1                0              0  ...   \n",
       "\n",
       "   production_countries_Germany  production_countries_Canada  \\\n",
       "0                             0                            0   \n",
       "\n",
       "   production_countries_India  production_countries_Italy  \\\n",
       "0                           0                           0   \n",
       "\n",
       "   original_language_en  original_language_fr  original_language_ru  \\\n",
       "0                     1                     0                     0   \n",
       "\n",
       "   original_language_es  original_language_hi  released  \n",
       "0                     0                     0         1  \n",
       "\n",
       "[1 rows x 29 columns]"
      ]
     },
     "execution_count": 31,
     "metadata": {},
     "output_type": "execute_result"
    }
   ],
   "source": [
    "df.head(1)"
   ]
  },
  {
   "cell_type": "code",
   "execution_count": 32,
   "id": "115a0f28",
   "metadata": {},
   "outputs": [],
   "source": [
    "# import libraries\n",
    "from sklearn.model_selection import train_test_split\n",
    "from sklearn.linear_model import LinearRegression,Lasso\n",
    "from sklearn.ensemble import RandomForestRegressor,AdaBoostRegressor\n",
    "from sklearn.tree import DecisionTreeRegressor\n",
    "from sklearn.metrics import mean_absolute_error as mae,mean_squared_error as mse"
   ]
  },
  {
   "cell_type": "code",
   "execution_count": 33,
   "id": "d983055f",
   "metadata": {},
   "outputs": [],
   "source": [
    "# Splitting the dataset into train & test\n",
    "train=df[df['test_data']==0]\n",
    "train=train.drop('test_data',axis=1)\n",
    "test=df[df['test_data']==1]\n",
    "test=test.drop('test_data',axis=1)"
   ]
  },
  {
   "cell_type": "code",
   "execution_count": 34,
   "id": "348346c6",
   "metadata": {},
   "outputs": [
    {
     "data": {
      "text/plain": [
       "(2400, 28)"
      ]
     },
     "execution_count": 34,
     "metadata": {},
     "output_type": "execute_result"
    }
   ],
   "source": [
    "train.shape"
   ]
  },
  {
   "cell_type": "code",
   "execution_count": 35,
   "id": "3ef2f49a",
   "metadata": {},
   "outputs": [],
   "source": [
    "X=train.drop('revenue',axis=1)\n",
    "y=train['revenue']\n"
   ]
  },
  {
   "cell_type": "code",
   "execution_count": 36,
   "id": "786600fb",
   "metadata": {},
   "outputs": [
    {
     "data": {
      "text/plain": [
       "(2400, 27)"
      ]
     },
     "execution_count": 36,
     "metadata": {},
     "output_type": "execute_result"
    }
   ],
   "source": [
    "X.shape"
   ]
  },
  {
   "cell_type": "code",
   "execution_count": 37,
   "id": "b8f478ad",
   "metadata": {},
   "outputs": [],
   "source": [
    "X_train,X_test,y_train,y_test=train_test_split(X,y,test_size=0.2)"
   ]
  },
  {
   "cell_type": "code",
   "execution_count": 38,
   "id": "3d18757c",
   "metadata": {},
   "outputs": [
    {
     "data": {
      "text/plain": [
       "((1920, 27), (480, 27))"
      ]
     },
     "execution_count": 38,
     "metadata": {},
     "output_type": "execute_result"
    }
   ],
   "source": [
    "X_train.shape,X_test.shape"
   ]
  },
  {
   "cell_type": "markdown",
   "id": "8c2558b0",
   "metadata": {},
   "source": [
    "# Model Building             \n",
    "<!--  -->              \n",
    "i will experiment with 5 different algorithms,they are as follows:                  \n",
    "<!--  -->               \n",
    "* Linear Regression      \n",
    "* Lasso             \n",
    "* DecisionTreeRegressor            \n",
    "* RandomForest Regressor          \n",
    "* AdaBoost Regressor                   \n",
    "<!--  -->                   \n",
    "## Linear Regression"
   ]
  },
  {
   "cell_type": "code",
   "execution_count": 39,
   "id": "817454f8",
   "metadata": {},
   "outputs": [],
   "source": [
    "lr=LinearRegression()"
   ]
  },
  {
   "cell_type": "code",
   "execution_count": 40,
   "id": "173b6eba",
   "metadata": {},
   "outputs": [
    {
     "name": "stdout",
     "output_type": "stream",
     "text": [
      "----Average NRMSE: -84517658.839\n",
      "Standard Deviation: 14577999.381\n"
     ]
    }
   ],
   "source": [
    "from sklearn.model_selection import cross_val_score\n",
    "cv=cross_val_score(lr,X,y,cv=10,scoring='neg_root_mean_squared_error')\n",
    "print(\"----Average NRMSE: {}\".format(round(cv.mean(),3)))\n",
    "print(\"Standard Deviation: {}\".format(round(cv.std(),3)))"
   ]
  },
  {
   "cell_type": "markdown",
   "id": "fd102337",
   "metadata": {},
   "source": [
    "## Lasso"
   ]
  },
  {
   "cell_type": "code",
   "execution_count": 41,
   "id": "e46738dc",
   "metadata": {},
   "outputs": [],
   "source": [
    "ls=Lasso()"
   ]
  },
  {
   "cell_type": "code",
   "execution_count": 42,
   "id": "666d15ef",
   "metadata": {},
   "outputs": [
    {
     "name": "stdout",
     "output_type": "stream",
     "text": [
      "----Average NRMSE: -84517657.746\n",
      "Standard Deviation: 14577998.974\n"
     ]
    }
   ],
   "source": [
    "cv=cross_val_score(ls,X,y,cv=10,scoring='neg_root_mean_squared_error')\n",
    "print(\"----Average NRMSE: {}\".format(round(cv.mean(),3)))\n",
    "print(\"Standard Deviation: {}\".format(round(cv.std(),3)))"
   ]
  },
  {
   "cell_type": "markdown",
   "id": "e2288aa0",
   "metadata": {},
   "source": [
    "## Decision Tree "
   ]
  },
  {
   "cell_type": "code",
   "execution_count": 43,
   "id": "56164940",
   "metadata": {},
   "outputs": [],
   "source": [
    "dt=DecisionTreeRegressor()"
   ]
  },
  {
   "cell_type": "code",
   "execution_count": 44,
   "id": "bea73d19",
   "metadata": {},
   "outputs": [
    {
     "name": "stdout",
     "output_type": "stream",
     "text": [
      "----Average NRMSE: -116549050.729\n",
      "Standard Deviation: 16329893.854\n"
     ]
    }
   ],
   "source": [
    "cv=cross_val_score(dt,X,y,cv=10,scoring='neg_root_mean_squared_error')\n",
    "print(\"----Average NRMSE: {}\".format(round(cv.mean(),3)))\n",
    "print(\"Standard Deviation: {}\".format(round(cv.std(),3)))"
   ]
  },
  {
   "cell_type": "markdown",
   "id": "fa9bc9a8",
   "metadata": {},
   "source": [
    "## Random"
   ]
  },
  {
   "cell_type": "code",
   "execution_count": 45,
   "id": "da382ede",
   "metadata": {},
   "outputs": [],
   "source": [
    "rf=RandomForestRegressor()"
   ]
  },
  {
   "cell_type": "code",
   "execution_count": 46,
   "id": "c14eb17a",
   "metadata": {},
   "outputs": [
    {
     "name": "stdout",
     "output_type": "stream",
     "text": [
      "----Average NRMSE: -82277929.551\n",
      "Standard Deviation: 15389830.594\n"
     ]
    }
   ],
   "source": [
    "cv=cross_val_score(rf,X,y,cv=10,scoring='neg_root_mean_squared_error')\n",
    "print(\"----Average NRMSE: {}\".format(round(cv.mean(),3)))\n",
    "print(\"Standard Deviation: {}\".format(round(cv.std(),3)))"
   ]
  },
  {
   "cell_type": "markdown",
   "id": "4c330c8a",
   "metadata": {},
   "source": [
    "## Adaboost"
   ]
  },
  {
   "cell_type": "code",
   "execution_count": 47,
   "id": "779644ff",
   "metadata": {},
   "outputs": [],
   "source": [
    "ad=AdaBoostRegressor()"
   ]
  },
  {
   "cell_type": "code",
   "execution_count": 48,
   "id": "7d2f2547",
   "metadata": {},
   "outputs": [
    {
     "name": "stdout",
     "output_type": "stream",
     "text": [
      "----Average NRMSE: -116138705.846\n",
      "Standard Deviation: 10854622.38\n"
     ]
    }
   ],
   "source": [
    "cv=cross_val_score(ad,X,y,cv=10,scoring='neg_root_mean_squared_error')\n",
    "print(\"----Average NRMSE: {}\".format(round(cv.mean(),3)))\n",
    "print(\"Standard Deviation: {}\".format(round(cv.std(),3)))"
   ]
  },
  {
   "cell_type": "markdown",
   "id": "50587e38",
   "metadata": {},
   "source": [
    "**Note: Random Forest Regressor** is selected among all other algorithm,because it has the highest value of Neagative Root Mean Squared Error(NRMSE) i.e. it lowest value of Root Mean Squared Error(RMSE)."
   ]
  },
  {
   "cell_type": "markdown",
   "id": "97786b85",
   "metadata": {},
   "source": [
    "# Prediction"
   ]
  },
  {
   "cell_type": "code",
   "execution_count": 49,
   "id": "62ef4b21",
   "metadata": {},
   "outputs": [
    {
     "data": {
      "text/plain": [
       "RandomForestRegressor()"
      ]
     },
     "execution_count": 49,
     "metadata": {},
     "output_type": "execute_result"
    }
   ],
   "source": [
    "rf=RandomForestRegressor()\n",
    "rf.fit(X,y)"
   ]
  },
  {
   "cell_type": "code",
   "execution_count": 50,
   "id": "f624f4b0",
   "metadata": {},
   "outputs": [
    {
     "data": {
      "text/plain": [
       "Index(['budget', 'popularity', 'release_date', 'runtime', 'genres_Drama',\n",
       "       'genres_Comedy', 'genres_Thriller', 'genres_Action', 'genres_Romance',\n",
       "       'genres_Crime', 'genres_Adventure', 'genres_Horror',\n",
       "       'genres_Science Fiction', 'genres_Family',\n",
       "       'production_countries_United States of America',\n",
       "       'production_countries_United Kingdom', 'production_countries_France',\n",
       "       'production_countries_Germany', 'production_countries_Canada',\n",
       "       'production_countries_India', 'production_countries_Italy',\n",
       "       'original_language_en', 'original_language_fr', 'original_language_ru',\n",
       "       'original_language_es', 'original_language_hi', 'released'],\n",
       "      dtype='object')"
      ]
     },
     "execution_count": 50,
     "metadata": {},
     "output_type": "execute_result"
    }
   ],
   "source": [
    "X.columns"
   ]
  },
  {
   "cell_type": "code",
   "execution_count": 51,
   "id": "5e8b81f5",
   "metadata": {},
   "outputs": [],
   "source": [
    "def predict_revenue(genres='Drama',production_countries='United States of America',original_language='en',\n",
    "                    budget=349943,popularity=0.45,release_date=945556,runtime=110,released=1):\n",
    "    temp_array=list()\n",
    "    \n",
    "    # Genre\n",
    "    if genres=='Drama':\n",
    "        temp_array=temp_array+[1,0,0,0,0,0,0,0,0,0]\n",
    "    elif genres=='Comedy':\n",
    "        temp_array=temp_array+[0,1,0,0,0,0,0,0,0,0]\n",
    "    elif genres=='Thriller':\n",
    "        temp_array=temp_array+[0,0,1,0,0,0,0,0,0,0]\n",
    "    elif genres=='Action':\n",
    "        temp_array=temp_array+[0,0,0,1,0,0,0,0,0,0]\n",
    "    elif genres=='Romance':\n",
    "        temp_array=temp_array+[0,0,0,0,1,0,0,0,0,0]\n",
    "    elif genres=='Crime':\n",
    "        temp_array=temp_array+[0,0,0,0,0,1,0,0,0,0]\n",
    "    elif genres=='Adventure':\n",
    "        temp_array=temp_array+[0,0,0,0,0,0,1,0,0,0]\n",
    "    elif genres=='Horror':\n",
    "        temp_array=temp_array+[0,0,0,0,0,0,0,1,0,0]\n",
    "    elif genres=='Science Fiction':\n",
    "        temp_array=temp_array+[0,0,0,0,0,0,0,0,1,0]\n",
    "    elif genres=='Family':\n",
    "        temp_array=temp_array+[0,0,0,0,0,0,0,0,0,1]\n",
    "        \n",
    "    #Production companies\n",
    "    if production_countries=='United States of America':\n",
    "        temp_array=temp_array+[1,0,0,0,0,0,0,]\n",
    "    elif production_countries=='United Kingdom':\n",
    "        temp_array=temp_array+[0,1,0,0,0,0,0]\n",
    "    elif production_countries=='France':\n",
    "        temp_array=temp_array+[0,0,1,0,0,0,0]\n",
    "    elif production_countries=='Germany':\n",
    "        temp_array=temp_array+[0,0,0,1,0,0,0]\n",
    "    elif production_countries=='Canda':\n",
    "        temp_array=temp_array+[0,0,0,0,1,0,0]\n",
    "    elif production_countries=='India':\n",
    "        temp_array=temp_array+[0,0,0,0,0,1,0]\n",
    "    elif production_countries=='Italy':\n",
    "        temp_array=temp_array+[0,0,0,0,0,0,1]\n",
    "    \n",
    "    # Original Language\n",
    "    if original_language=='en':\n",
    "        temp_array=temp_array+[1,0,0,0,0]\n",
    "    elif original_language=='fr':\n",
    "        temp_array=temp_array+[0,1,0,0,0]\n",
    "    elif original_language=='ru':\n",
    "        temp_array=temp_array+[0,0,1,0,0]\n",
    "    elif original_language=='es':\n",
    "        temp_array=temp_array+[0,0,0,1,0]\n",
    "    elif original_language=='hi':\n",
    "        temp_array=temp_array+[0,0,0,0,1]\n",
    "    \n",
    "    temp_array=temp_array+[budget,popularity,release_date,runtime,released]\n",
    "    \n",
    "    # Converting into numpy array\n",
    "    temp_array=np.array([temp_array])\n",
    "    \n",
    "    # prediction\n",
    "    return int(rf.predict(temp_array)[0])"
   ]
  },
  {
   "cell_type": "code",
   "execution_count": 52,
   "id": "deddb044",
   "metadata": {},
   "outputs": [
    {
     "name": "stdout",
     "output_type": "stream",
     "text": [
      "predicted Revenue: 32140204\n"
     ]
    }
   ],
   "source": [
    "# Prodiction 1\n",
    "revenue=predict_revenue(genres='Family',production_countries='India',original_language='hi',budget=5000000,\n",
    "                         popularity=5.001,release_date=858832,runtime=120,released=1)\n",
    "print(\"predicted Revenue: {}\".format(revenue))"
   ]
  },
  {
   "cell_type": "code",
   "execution_count": 53,
   "id": "987f2fee",
   "metadata": {},
   "outputs": [
    {
     "name": "stdout",
     "output_type": "stream",
     "text": [
      "predicted Revenue: 28995726\n"
     ]
    }
   ],
   "source": [
    "# Prediction 2\n",
    "revenue=predict_revenue(genres='Drama',production_countries='India',original_language='en',budget=25000000,\n",
    "                         popularity=0.001,release_date=933832,runtime=90,released=1)\n",
    "print(\"predicted Revenue: {}\".format(revenue))"
   ]
  },
  {
   "cell_type": "code",
   "execution_count": 56,
   "id": "7b9d8f4d",
   "metadata": {},
   "outputs": [
    {
     "name": "stdout",
     "output_type": "stream",
     "text": [
      "predicted Revenue: 45916309\n"
     ]
    }
   ],
   "source": [
    "# Prediction 3\n",
    "revenue=predict_revenue(genres='Science Fiction',production_countries='United States of America',original_language='en',budget=2500000,\n",
    "                         popularity=6.901,release_date=771832,runtime=130,released=1)\n",
    "print(\"predicted Revenue: {}\".format(revenue))"
   ]
  },
  {
   "cell_type": "code",
   "execution_count": null,
   "id": "81c974ac",
   "metadata": {},
   "outputs": [],
   "source": []
  }
 ],
 "metadata": {
  "kernelspec": {
   "display_name": "Python 3 (ipykernel)",
   "language": "python",
   "name": "python3"
  },
  "language_info": {
   "codemirror_mode": {
    "name": "ipython",
    "version": 3
   },
   "file_extension": ".py",
   "mimetype": "text/x-python",
   "name": "python",
   "nbconvert_exporter": "python",
   "pygments_lexer": "ipython3",
   "version": "3.9.5"
  }
 },
 "nbformat": 4,
 "nbformat_minor": 5
}
