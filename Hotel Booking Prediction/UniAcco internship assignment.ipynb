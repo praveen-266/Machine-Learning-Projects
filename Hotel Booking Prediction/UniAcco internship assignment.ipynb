{
 "cells": [
  {
   "cell_type": "code",
   "execution_count": 1,
   "id": "50cf1b13",
   "metadata": {},
   "outputs": [],
   "source": [
    "import numpy as np\n",
    "import pandas as pd\n",
    "import matplotlib.pyplot as plt\n",
    "import seaborn as sns\n",
    "\n",
    "import warnings\n",
    "warnings.filterwarnings('ignore')"
   ]
  },
  {
   "cell_type": "code",
   "execution_count": 2,
   "id": "8388441c",
   "metadata": {},
   "outputs": [
    {
     "data": {
      "text/html": [
       "<div>\n",
       "<style scoped>\n",
       "    .dataframe tbody tr th:only-of-type {\n",
       "        vertical-align: middle;\n",
       "    }\n",
       "\n",
       "    .dataframe tbody tr th {\n",
       "        vertical-align: top;\n",
       "    }\n",
       "\n",
       "    .dataframe thead th {\n",
       "        text-align: right;\n",
       "    }\n",
       "</style>\n",
       "<table border=\"1\" class=\"dataframe\">\n",
       "  <thead>\n",
       "    <tr style=\"text-align: right;\">\n",
       "      <th></th>\n",
       "      <th>Unnamed: 0</th>\n",
       "      <th>Agent_id</th>\n",
       "      <th>status</th>\n",
       "      <th>lost_reason</th>\n",
       "      <th>budget</th>\n",
       "      <th>lease</th>\n",
       "      <th>movein</th>\n",
       "      <th>source</th>\n",
       "      <th>source_city</th>\n",
       "      <th>source_country</th>\n",
       "      <th>utm_source</th>\n",
       "      <th>utm_medium</th>\n",
       "      <th>des_city</th>\n",
       "      <th>des_country</th>\n",
       "      <th>room_type</th>\n",
       "      <th>lead_id</th>\n",
       "    </tr>\n",
       "  </thead>\n",
       "  <tbody>\n",
       "    <tr>\n",
       "      <th>0</th>\n",
       "      <td>0</td>\n",
       "      <td>1deba9e96f404694373de9749ddd1ca8aa7bb823145a6f...</td>\n",
       "      <td>LOST</td>\n",
       "      <td>Not responding</td>\n",
       "      <td>NaN</td>\n",
       "      <td>NaN</td>\n",
       "      <td>NaN</td>\n",
       "      <td>9b2d5b4678781e53038e91ea5324530a03f27dc1d0e5f6...</td>\n",
       "      <td>9b2d5b4678781e53038e91ea5324530a03f27dc1d0e5f6...</td>\n",
       "      <td>9b2d5b4678781e53038e91ea5324530a03f27dc1d0e5f6...</td>\n",
       "      <td>3d59f7548e1af2151b64135003ce63c0a484c26b9b8b16...</td>\n",
       "      <td>268ad70eb5bc4737a2ae28162cbca30118cc94520e49ef...</td>\n",
       "      <td>ecc0e7dc084f141b29479058967d0bc07dee25d9690a98...</td>\n",
       "      <td>8d23a6e37e0a6431a8f1b43a91026dcff51170a89a6512...</td>\n",
       "      <td>NaN</td>\n",
       "      <td>cd5dc0d9393f3980d11d4ba6f88f8110c2b7a7f7796307...</td>\n",
       "    </tr>\n",
       "    <tr>\n",
       "      <th>1</th>\n",
       "      <td>1</td>\n",
       "      <td>299ae77a4ef350ae0dd37d6bba1c002d03444fb1edb236...</td>\n",
       "      <td>LOST</td>\n",
       "      <td>Low budget</td>\n",
       "      <td>NaN</td>\n",
       "      <td>NaN</td>\n",
       "      <td>NaN</td>\n",
       "      <td>9b2d5b4678781e53038e91ea5324530a03f27dc1d0e5f6...</td>\n",
       "      <td>9b2d5b4678781e53038e91ea5324530a03f27dc1d0e5f6...</td>\n",
       "      <td>9b2d5b4678781e53038e91ea5324530a03f27dc1d0e5f6...</td>\n",
       "      <td>3d59f7548e1af2151b64135003ce63c0a484c26b9b8b16...</td>\n",
       "      <td>268ad70eb5bc4737a2ae28162cbca30118cc94520e49ef...</td>\n",
       "      <td>5372372f3bf5896820cb2819300c3e681820d82c6efc54...</td>\n",
       "      <td>8d23a6e37e0a6431a8f1b43a91026dcff51170a89a6512...</td>\n",
       "      <td>NaN</td>\n",
       "      <td>b94693673a5f7178d1b114e4004ad52377d3244dd24a3d...</td>\n",
       "    </tr>\n",
       "    <tr>\n",
       "      <th>2</th>\n",
       "      <td>2</td>\n",
       "      <td>c213697430c006013012dd2aca82dd9732aa0a1a6bca13...</td>\n",
       "      <td>LOST</td>\n",
       "      <td>Not responding</td>\n",
       "      <td>£121 - £180 Per Week</td>\n",
       "      <td>Full Year Course Stay 40 - 44 weeks</td>\n",
       "      <td>31/08/22</td>\n",
       "      <td>7aae3e886e89fc1187a5c47d6cea1c22998ee610ade1f2...</td>\n",
       "      <td>9b8cc3c63cdf447e463c11544924bf027945cbd29675f7...</td>\n",
       "      <td>e09e10e67812e9d236ad900e5d46b4308fc62f5d69446a...</td>\n",
       "      <td>bbdefa2950f49882f295b1285d4fa9dec45fc4144bfb07...</td>\n",
       "      <td>09076eb7665d1fb9389c7c4517fee0b00e43092eb34821...</td>\n",
       "      <td>11ab03a1a8c367191355c152f39fe28cae5e426fce49ef...</td>\n",
       "      <td>8d23a6e37e0a6431a8f1b43a91026dcff51170a89a6512...</td>\n",
       "      <td>Ensuite</td>\n",
       "      <td>96ea4e2bf04496c044745938c0299c264c3f4ba079e572...</td>\n",
       "    </tr>\n",
       "    <tr>\n",
       "      <th>3</th>\n",
       "      <td>3</td>\n",
       "      <td>eac9815a500f908736d303e23aa227f0957177b0e6756b...</td>\n",
       "      <td>LOST</td>\n",
       "      <td>Low budget</td>\n",
       "      <td>0-0</td>\n",
       "      <td>0</td>\n",
       "      <td>NaN</td>\n",
       "      <td>ba2d0a29556ac20f86f45e4543c0825428cba33fd7a9ea...</td>\n",
       "      <td>a5f0d2d08eb0592087e3a3a2f9c1ba2c67cc30f2efd2bd...</td>\n",
       "      <td>e09e10e67812e9d236ad900e5d46b4308fc62f5d69446a...</td>\n",
       "      <td>bbdefa2950f49882f295b1285d4fa9dec45fc4144bfb07...</td>\n",
       "      <td>09076eb7665d1fb9389c7c4517fee0b00e43092eb34821...</td>\n",
       "      <td>19372fa44c57a01c37a5a8418779ca3d99b0b59731fb35...</td>\n",
       "      <td>8d23a6e37e0a6431a8f1b43a91026dcff51170a89a6512...</td>\n",
       "      <td>NaN</td>\n",
       "      <td>1d2b34d8add02a182a4129023766ca4585a8ddced0e5b3...</td>\n",
       "    </tr>\n",
       "    <tr>\n",
       "      <th>4</th>\n",
       "      <td>4</td>\n",
       "      <td>1deba9e96f404694373de9749ddd1ca8aa7bb823145a6f...</td>\n",
       "      <td>LOST</td>\n",
       "      <td>Junk lead</td>\n",
       "      <td>NaN</td>\n",
       "      <td>NaN</td>\n",
       "      <td>NaN</td>\n",
       "      <td>9b2d5b4678781e53038e91ea5324530a03f27dc1d0e5f6...</td>\n",
       "      <td>9b2d5b4678781e53038e91ea5324530a03f27dc1d0e5f6...</td>\n",
       "      <td>9b2d5b4678781e53038e91ea5324530a03f27dc1d0e5f6...</td>\n",
       "      <td>3d59f7548e1af2151b64135003ce63c0a484c26b9b8b16...</td>\n",
       "      <td>268ad70eb5bc4737a2ae28162cbca30118cc94520e49ef...</td>\n",
       "      <td>9b2d5b4678781e53038e91ea5324530a03f27dc1d0e5f6...</td>\n",
       "      <td>9b2d5b4678781e53038e91ea5324530a03f27dc1d0e5f6...</td>\n",
       "      <td>NaN</td>\n",
       "      <td>fc10fffd29cfbe93c55158fb47752a7501c211d253468c...</td>\n",
       "    </tr>\n",
       "  </tbody>\n",
       "</table>\n",
       "</div>"
      ],
      "text/plain": [
       "   Unnamed: 0                                           Agent_id status  \\\n",
       "0           0  1deba9e96f404694373de9749ddd1ca8aa7bb823145a6f...   LOST   \n",
       "1           1  299ae77a4ef350ae0dd37d6bba1c002d03444fb1edb236...   LOST   \n",
       "2           2  c213697430c006013012dd2aca82dd9732aa0a1a6bca13...   LOST   \n",
       "3           3  eac9815a500f908736d303e23aa227f0957177b0e6756b...   LOST   \n",
       "4           4  1deba9e96f404694373de9749ddd1ca8aa7bb823145a6f...   LOST   \n",
       "\n",
       "      lost_reason                budget                                lease  \\\n",
       "0  Not responding                   NaN                                  NaN   \n",
       "1      Low budget                   NaN                                  NaN   \n",
       "2  Not responding  £121 - £180 Per Week  Full Year Course Stay 40 - 44 weeks   \n",
       "3      Low budget                   0-0                                    0   \n",
       "4       Junk lead                   NaN                                  NaN   \n",
       "\n",
       "     movein                                             source  \\\n",
       "0       NaN  9b2d5b4678781e53038e91ea5324530a03f27dc1d0e5f6...   \n",
       "1       NaN  9b2d5b4678781e53038e91ea5324530a03f27dc1d0e5f6...   \n",
       "2  31/08/22  7aae3e886e89fc1187a5c47d6cea1c22998ee610ade1f2...   \n",
       "3       NaN  ba2d0a29556ac20f86f45e4543c0825428cba33fd7a9ea...   \n",
       "4       NaN  9b2d5b4678781e53038e91ea5324530a03f27dc1d0e5f6...   \n",
       "\n",
       "                                         source_city  \\\n",
       "0  9b2d5b4678781e53038e91ea5324530a03f27dc1d0e5f6...   \n",
       "1  9b2d5b4678781e53038e91ea5324530a03f27dc1d0e5f6...   \n",
       "2  9b8cc3c63cdf447e463c11544924bf027945cbd29675f7...   \n",
       "3  a5f0d2d08eb0592087e3a3a2f9c1ba2c67cc30f2efd2bd...   \n",
       "4  9b2d5b4678781e53038e91ea5324530a03f27dc1d0e5f6...   \n",
       "\n",
       "                                      source_country  \\\n",
       "0  9b2d5b4678781e53038e91ea5324530a03f27dc1d0e5f6...   \n",
       "1  9b2d5b4678781e53038e91ea5324530a03f27dc1d0e5f6...   \n",
       "2  e09e10e67812e9d236ad900e5d46b4308fc62f5d69446a...   \n",
       "3  e09e10e67812e9d236ad900e5d46b4308fc62f5d69446a...   \n",
       "4  9b2d5b4678781e53038e91ea5324530a03f27dc1d0e5f6...   \n",
       "\n",
       "                                          utm_source  \\\n",
       "0  3d59f7548e1af2151b64135003ce63c0a484c26b9b8b16...   \n",
       "1  3d59f7548e1af2151b64135003ce63c0a484c26b9b8b16...   \n",
       "2  bbdefa2950f49882f295b1285d4fa9dec45fc4144bfb07...   \n",
       "3  bbdefa2950f49882f295b1285d4fa9dec45fc4144bfb07...   \n",
       "4  3d59f7548e1af2151b64135003ce63c0a484c26b9b8b16...   \n",
       "\n",
       "                                          utm_medium  \\\n",
       "0  268ad70eb5bc4737a2ae28162cbca30118cc94520e49ef...   \n",
       "1  268ad70eb5bc4737a2ae28162cbca30118cc94520e49ef...   \n",
       "2  09076eb7665d1fb9389c7c4517fee0b00e43092eb34821...   \n",
       "3  09076eb7665d1fb9389c7c4517fee0b00e43092eb34821...   \n",
       "4  268ad70eb5bc4737a2ae28162cbca30118cc94520e49ef...   \n",
       "\n",
       "                                            des_city  \\\n",
       "0  ecc0e7dc084f141b29479058967d0bc07dee25d9690a98...   \n",
       "1  5372372f3bf5896820cb2819300c3e681820d82c6efc54...   \n",
       "2  11ab03a1a8c367191355c152f39fe28cae5e426fce49ef...   \n",
       "3  19372fa44c57a01c37a5a8418779ca3d99b0b59731fb35...   \n",
       "4  9b2d5b4678781e53038e91ea5324530a03f27dc1d0e5f6...   \n",
       "\n",
       "                                         des_country room_type  \\\n",
       "0  8d23a6e37e0a6431a8f1b43a91026dcff51170a89a6512...       NaN   \n",
       "1  8d23a6e37e0a6431a8f1b43a91026dcff51170a89a6512...       NaN   \n",
       "2  8d23a6e37e0a6431a8f1b43a91026dcff51170a89a6512...   Ensuite   \n",
       "3  8d23a6e37e0a6431a8f1b43a91026dcff51170a89a6512...       NaN   \n",
       "4  9b2d5b4678781e53038e91ea5324530a03f27dc1d0e5f6...       NaN   \n",
       "\n",
       "                                             lead_id  \n",
       "0  cd5dc0d9393f3980d11d4ba6f88f8110c2b7a7f7796307...  \n",
       "1  b94693673a5f7178d1b114e4004ad52377d3244dd24a3d...  \n",
       "2  96ea4e2bf04496c044745938c0299c264c3f4ba079e572...  \n",
       "3  1d2b34d8add02a182a4129023766ca4585a8ddced0e5b3...  \n",
       "4  fc10fffd29cfbe93c55158fb47752a7501c211d253468c...  "
      ]
     },
     "execution_count": 2,
     "metadata": {},
     "output_type": "execute_result"
    }
   ],
   "source": [
    "df=pd.read_csv(r'c:\\users\\prave\\Downloads\\Data_Science_Internship.csv')\n",
    "df.head()"
   ]
  },
  {
   "cell_type": "code",
   "execution_count": 3,
   "id": "19b82b39",
   "metadata": {},
   "outputs": [
    {
     "data": {
      "text/plain": [
       "(46608, 16)"
      ]
     },
     "execution_count": 3,
     "metadata": {},
     "output_type": "execute_result"
    }
   ],
   "source": [
    "df.shape"
   ]
  },
  {
   "cell_type": "code",
   "execution_count": 4,
   "id": "9c8435e2",
   "metadata": {},
   "outputs": [],
   "source": [
    "# replace \"9b2d5b4678781e53038e91ea5324530a03f27dc1d0e5f6c9bc9d493a23be9de0\" into Nan \n",
    "df=df.replace('9b2d5b4678781e53038e91ea5324530a03f27dc1d0e5f6c9bc9d493a23be9de0',np.NaN)"
   ]
  },
  {
   "cell_type": "code",
   "execution_count": 5,
   "id": "33e11527",
   "metadata": {},
   "outputs": [
    {
     "data": {
      "text/plain": [
       "room_type         23547\n",
       "movein            13638\n",
       "source_city        8851\n",
       "source_country     8641\n",
       "source             5977\n",
       "budget             3700\n",
       "lost_reason        3364\n",
       "utm_medium         3187\n",
       "des_city           2537\n",
       "des_country        2537\n",
       "lease              2341\n",
       "utm_source           61\n",
       "Unnamed: 0            0\n",
       "Agent_id              0\n",
       "status                0\n",
       "lead_id               0\n",
       "dtype: int64"
      ]
     },
     "execution_count": 5,
     "metadata": {},
     "output_type": "execute_result"
    }
   ],
   "source": [
    "df.isnull().sum().sort_values(ascending=False)"
   ]
  },
  {
   "cell_type": "code",
   "execution_count": 6,
   "id": "f0945ded",
   "metadata": {},
   "outputs": [],
   "source": [
    "# impute nan values with most frequent values\n",
    "df=df.fillna(df.mode().iloc[0])"
   ]
  },
  {
   "cell_type": "markdown",
   "id": "f793a894",
   "metadata": {},
   "source": [
    "# Data Cleaning"
   ]
  },
  {
   "cell_type": "code",
   "execution_count": 7,
   "id": "cfe33c4e",
   "metadata": {},
   "outputs": [],
   "source": [
    "# The  \"status\" column other than ‘WON’ or ‘LOST’ can be dropped.\n",
    "df=df[((df['status']=='LOST') | (df['status']=='WON'))]"
   ]
  },
  {
   "cell_type": "markdown",
   "id": "59ec327c",
   "metadata": {},
   "source": [
    "### Clean Lease column"
   ]
  },
  {
   "cell_type": "code",
   "execution_count": 8,
   "id": "3c50c31e",
   "metadata": {},
   "outputs": [],
   "source": [
    "# clean \"lease\" column \n",
    "\n",
    "# replace semester stay with \"20-24 weeks\"\n",
    "df['lease']=df['lease'].replace(['Semseter Stay 20-24 weeks','semester-stay','Semester Stay','Sem stay','Semester stay',\n",
    "'Semester Stay 20 - 24 weeks','20 - 24 weeks','semester stay','sem stay','Sem Stay'],'20-24 weeks')\n",
    "\n",
    "# 52 weeks in one year. so, replace all full year stay, acedamic stay,50 & 51 week  into 50 - 52 weeks\n",
    "df['lease']=df['lease'].replace(['full-year-stay','full year stay','FULL YEAR STAY','Complete Education Year Stay 50 - 52 weeks',\n",
    "'Academic year','academic year','Full year','full year','full year stayt','Full year stay','12m','Stay 50-52 weeks',\n",
    "'50-52 weeks','FULL YEAR','full year stay','Full Year Stay','1 year stay','full yyear stay','Whole year','1 YEAR',\n",
    "'academic yr','51','51 weeks','51 \\\\','51weeks','N51','51\\\\','51 weeks weeks','50','50 weeks','51 week','51 wweeks',\n",
    "'52 WEEKS','51sweek','51 WEEKS','-51 weeks','51 Weeks','Full time','51 cweeks','50','52','52 weeks',\n",
    "'51 weeks ( I don’t mind travelling over an hour)','50 - 52 weeks','52weeks','51WEEKS','51  weeks','Full Year',\n",
    "'Stay 50 - 52 weeks','51Weeks','1 year','Full Year Course Stay 51 weeks'],'50-52 weeks')\n",
    "\n",
    "# replace short stay with \"8-12 weeks\"\n",
    "df['lease']=df['lease'].replace(['Short Stay 8-12 weeks','short-stay','short stay',\n",
    "                                 'Summer/Short Stay 8 - 12 weeks'],'8-12 weeks')\n",
    "\n",
    "# replace with \"44-51 weeks\"\n",
    "df['lease']=df['lease'].replace(['44-51','44-51 weeks','44 - 51 weeks','44/51 weeks','44-51','44-51 weeeks','44-51weeks',\n",
    "'44 - 51','44weeks - 51','44 or 51 weeks','44-','Full Year Course Stay 44- 51 weeks'],'44-51 weeks')\n",
    "\n",
    "# replace full year course with \"40-44 weeks\"\n",
    "df['lease']=df['lease'].replace(['Full Year Course Stay 40 - 44 weeks','full-course-stay','Full Year Course Stay','44',\n",
    "'44/week','44 weeks','40','40 - 44 weeks','40-44','40 weeks','44WEEKS','40-44 weeks','41weeks','N/44','42 weeks','43 weeks',\n",
    "'40weeks +','40 week','44 week stay','43/44 weeks','44 week s','40+','44weeks','44 week','full course',\n",
    "                                 '44week','44/weeks'],'40-44 weeks')\n",
    "# replace with \"12-24 weeks\"\n",
    "df['lease']=df['lease'].replace(['12-24','12 weeks','24 weeks','12','24'],'12-24 weeks')\n",
    "\n",
    "# replace with \"24-36 weeks\"\n",
    "df['lease']=df['lease'].replace(['24-36','25','36','26'],'24-36 weeks')\n",
    "\n",
    "# \"24-44 weeks\"\n",
    "df['lease']=df['lease'].replace(['24-44 weeks','24-44weeks','24 -44 weeks'],'24-44 weeks')"
   ]
  },
  {
   "cell_type": "code",
   "execution_count": 9,
   "id": "b97ef2ca",
   "metadata": {},
   "outputs": [
    {
     "data": {
      "text/plain": [
       "40-44 weeks    15838\n",
       "50-52 weeks    12394\n",
       "0-0 weeks       7594\n",
       "others          4217\n",
       "20-24 weeks     3241\n",
       "8-12 weeks      2703\n",
       "12-24 weeks      165\n",
       "24-36 weeks      123\n",
       "44-51 weeks       40\n",
       "24-44 weeks        2\n",
       "Name: lease, dtype: int64"
      ]
     },
     "execution_count": 9,
     "metadata": {},
     "output_type": "execute_result"
    }
   ],
   "source": [
    "def clean_lease(lease):\n",
    "    if \"8-12 weeks\" in lease:\n",
    "        return \"8-12 weeks\"\n",
    "    elif \"12-24 weeks\" in lease:\n",
    "        return \"12-24 weeks\"\n",
    "    elif \"20-24 weeks\" in lease:\n",
    "        return \"20-24 weeks\"\n",
    "    elif \"24-36 weeks\" in lease:\n",
    "        return \"24-36 weeks\"\n",
    "    elif \"24-44 weeks\" in lease:\n",
    "        return \"24-44 weeks\"\n",
    "    elif \"40-44 weeks\" in lease:\n",
    "        return \"40-44 weeks\"\n",
    "    elif \"44-51 weeks\" in lease:\n",
    "        return \"44-51 weeks\"\n",
    "    elif \"50-52 weeks\" in lease:\n",
    "        return \"50-52 weeks\"\n",
    "    elif \"0\" in lease: \n",
    "        return \"0-0 weeks\"  # here, 0-0 weeks means 0 days.\n",
    "    else:\n",
    "        return \"others\"\n",
    "    \n",
    "df['lease']=df['lease'].apply(clean_lease)\n",
    "df['lease'].value_counts()"
   ]
  },
  {
   "cell_type": "markdown",
   "id": "95214710",
   "metadata": {},
   "source": [
    "### Clean Budget Column"
   ]
  },
  {
   "cell_type": "code",
   "execution_count": 10,
   "id": "1b232697",
   "metadata": {},
   "outputs": [
    {
     "data": {
      "text/plain": [
       "£60 - £120 Per week     13444\n",
       "£121 - £180 Per Week     8878\n",
       "0-0                      5719\n",
       "£181 - £240 Per Week     2143\n",
       "100                      1509\n",
       "                        ...  \n",
       "0-80-100$                   1\n",
       "0-235                       1\n",
       "£120-160 Per Week           1\n",
       "1400 per month              1\n",
       "0-500 PCM                   1\n",
       "Name: budget, Length: 1851, dtype: int64"
      ]
     },
     "execution_count": 10,
     "metadata": {},
     "output_type": "execute_result"
    }
   ],
   "source": [
    "df['budget'].value_counts()"
   ]
  },
  {
   "cell_type": "code",
   "execution_count": 11,
   "id": "4f9c12de",
   "metadata": {},
   "outputs": [],
   "source": [
    "# lower the string values\n",
    "df['budget']=df['budget'].str.lower()\n",
    "\n",
    "# Removing '£' and 'pounds' & \"gbp\" from 'budget' column . because, all terms are same \n",
    "df['budget']=df['budget'].apply(lambda x: x if type(x)==type(3.5) else x.replace('£','').replace('pound','').replace('pounds per week','').replace('gbp',''))\n",
    "\n",
    "# remove \"weeks\" values\n",
    "df['budget']=df['budget'].apply(lambda x: x if type(x)==type(3.5) else x.replace('/week','').replace('per week','').replace('pw','').replace('p/w','').replace('weeks','').replace('/ week','').replace('week','').replace('/w',''))\n",
    "\n",
    "# remove special characters\n",
    "df['budget']=df['budget'].apply(lambda x: x if type(x)==type(3.5) else x.replace('max','').replace('\\\\','').replace('<','').replace('>','').replace('?','').replace('/','').replace('cad','').replace('s','').replace('+','').replace('0-imum','').replace('prw','').replace('imum',''))\n",
    "\n",
    "# remove special characters\n",
    "df['budget']=df['budget'].apply(lambda x: x if type(x)==type(3.5) else x.replace('below','').replace('upto','').replace('owo',''))\n",
    "\n",
    "# replace\n",
    "df['budget']=df['budget'].apply(lambda x: x if type(x)==type(3.5) else x.replace('pm','').replace('pcm','').replace('onth','').replace('momth','').replace('ppm','').replace('p',''))\n"
   ]
  },
  {
   "cell_type": "code",
   "execution_count": 12,
   "id": "c35ecfee",
   "metadata": {},
   "outputs": [],
   "source": [
    "# let's create \"budget_length\"\n",
    "df.insert(loc=5,column='budget_length',value=df['budget'].str.len())"
   ]
  },
  {
   "cell_type": "code",
   "execution_count": 13,
   "id": "91244df6",
   "metadata": {},
   "outputs": [
    {
     "data": {
      "text/plain": [
       "(45988, 17)"
      ]
     },
     "execution_count": 13,
     "metadata": {},
     "output_type": "execute_result"
    }
   ],
   "source": [
    "# remove rows more than str_length 10\n",
    "df=df[df['budget_length'] <= 10]\n",
    "df.shape"
   ]
  },
  {
   "cell_type": "code",
   "execution_count": 14,
   "id": "c4f9345f",
   "metadata": {},
   "outputs": [],
   "source": [
    "# remove \"buget_length\" column\n",
    "df.drop('budget_length',axis=1,inplace=True)"
   ]
  },
  {
   "cell_type": "code",
   "execution_count": 15,
   "id": "c2fd1b31",
   "metadata": {},
   "outputs": [],
   "source": [
    "# let's take the maxlimit values of the \"budget\" column as values\n",
    "df['budget']=df['budget'].apply(lambda x:x.split(\"-\")[-1])\n",
    "\n",
    "df['budget']=df['budget'].apply(lambda x:x.split(\"to\")[-1])\n",
    "\n",
    "\n",
    "df['budget']=df['budget'].apply(lambda x:x.split(\"or\")[-1])"
   ]
  },
  {
   "cell_type": "code",
   "execution_count": 16,
   "id": "d01879b3",
   "metadata": {},
   "outputs": [],
   "source": [
    "lakh =df['budget'].apply(lambda x: x if type(x)==type(3.5) else x.replace('lac','lakh'))\n",
    "\n",
    "# Converting budgets lakhs to punds \n",
    "def lakhs_to_pound(val):\n",
    "    x = val.strip()\n",
    "    x = int(int(val)*998)  # 1 lakh = 998 pounds\n",
    "    return '{}'.format(x)\n",
    "df['budget'] = lakh.apply(lambda x: x if type(x)==type(3.5) else (lakhs_to_pound(x.replace(\"lakh\", \"\")) if \"lakh\" in x.lower() else x))\n"
   ]
  },
  {
   "cell_type": "code",
   "execution_count": 17,
   "id": "1e5a7639",
   "metadata": {},
   "outputs": [],
   "source": [
    "# convert monthly budget to weekly \n",
    "def monthly_to_weekly(val):\n",
    "    x = val.strip()\n",
    "    x = float(float(val)/4)  # i have considered \"4\" weeks in a month\n",
    "    return '{}'.format(x)\n",
    "df['budget']= df['budget'].apply(lambda x: x if type(x)==type(3.5) else (monthly_to_weekly(x.lower().replace(\"month\", \"\")) if \"month\" in x.lower() else x))"
   ]
  },
  {
   "cell_type": "code",
   "execution_count": 18,
   "id": "ea77b015",
   "metadata": {},
   "outputs": [],
   "source": [
    "# converting budget euros to pounds\n",
    "def dollars_to_pounds(val):\n",
    "    x = val.strip()\n",
    "    x = float(float(val)*0.82)  # 1 $ == 0.82 pounds\n",
    "    return '{}'.format(x)\n",
    "\n",
    "df['budget'] = df['budget'].apply(lambda x: x if type(x)==type(3.5) else (dollars_to_pounds(x.replace(\"$\", \"\")) if \"$\" in x.lower() else x))"
   ]
  },
  {
   "cell_type": "code",
   "execution_count": 19,
   "id": "a621deba",
   "metadata": {},
   "outputs": [],
   "source": [
    "# exctract only numbers\n",
    "df['budget'] = df['budget'].str.replace('\\D+','')"
   ]
  },
  {
   "cell_type": "code",
   "execution_count": 20,
   "id": "59db5734",
   "metadata": {},
   "outputs": [],
   "source": [
    "# replace empty rows with 0\n",
    "df['budget']=df['budget'].replace('','0')"
   ]
  },
  {
   "cell_type": "code",
   "execution_count": 21,
   "id": "60f9159b",
   "metadata": {},
   "outputs": [],
   "source": [
    "# rename \"budget\" as \"budget_inweek\" & \"lease\" as \"lease_inweek\"\n",
    "df.rename(columns={'budget':'budget_inweek','lease':'lease_inweek'},inplace=True)"
   ]
  },
  {
   "cell_type": "markdown",
   "id": "d3fa070a",
   "metadata": {},
   "source": [
    "### clean Lost_reason column"
   ]
  },
  {
   "cell_type": "code",
   "execution_count": 22,
   "id": "0f45cce7",
   "metadata": {},
   "outputs": [
    {
     "data": {
      "text/plain": [
       "Low availability                  11883\n",
       "Not responding                     7809\n",
       "Not interested                     6422\n",
       "Low budget                         5456\n",
       "Wants private accommodation        2740\n",
       "Short stay                         2249\n",
       "Not a student                      1494\n",
       "Just Enquiring                     1252\n",
       "Inadequate details                  825\n",
       "Semester stay                       814\n",
       "Booked with manager                 674\n",
       "Junk lead                           617\n",
       "Booked on campus accommodation      611\n",
       "Supply issue                        536\n",
       "No supply                           524\n",
       "Repeat lead                         392\n",
       "Not serving in that region          390\n",
       "Booked with competitor              356\n",
       "Not going to university             328\n",
       "Distance issue                      217\n",
       "Junk lead/ Just Enquiring           147\n",
       "Lead issue                          125\n",
       "Looking for admission                41\n",
       "Didn't respond in time               35\n",
       "Visa/admission denied                17\n",
       "Guarantor issue                      17\n",
       "Looking for Scholarship               7\n",
       "Looking for loan                      5\n",
       "Underage student                      4\n",
       "Cross sell                            1\n",
       "Name: lost_reason, dtype: int64"
      ]
     },
     "execution_count": 22,
     "metadata": {},
     "output_type": "execute_result"
    }
   ],
   "source": [
    "df['lost_reason'].value_counts()"
   ]
  },
  {
   "cell_type": "code",
   "execution_count": 23,
   "id": "5c60792e",
   "metadata": {},
   "outputs": [
    {
     "data": {
      "text/plain": [
       "others                         12958\n",
       "low availability               11883\n",
       "not responding                  7809\n",
       "low budget                      5456\n",
       "wants private accommodation     2740\n",
       "short stay                      2249\n",
       "not a student                   1494\n",
       "just enquiring                  1399\n",
       "Name: lost_reason, dtype: int64"
      ]
     },
     "execution_count": 23,
     "metadata": {},
     "output_type": "execute_result"
    }
   ],
   "source": [
    "df['lost_reason']=df['lost_reason'].str.lower()\n",
    "\n",
    "# keeping values only more than \"1000\" and replacing rest of the values as \"others\"\n",
    "def clean_lost(lost):\n",
    "    if \"low availability\" in lost:\n",
    "        return \"low availability\"\n",
    "    elif \"not responding\" in lost:\n",
    "        return \"not responding\"\n",
    "    elif \"low budget\" in lost:\n",
    "        return \"low budget\"\n",
    "    elif \"wants private accommodation\" in lost:\n",
    "        return \"wants private accommodation\"\n",
    "    elif \"short stay\" in lost:\n",
    "        return \"short stay\"\n",
    "    elif \"not a student\" in lost:\n",
    "        return \"not a student\"\n",
    "    elif \"just enquiring\" in lost:\n",
    "        return \"just enquiring\"\n",
    "    else:\n",
    "        return \"others\"\n",
    "\n",
    "df['lost_reason']=df['lost_reason'].apply(clean_lost)\n",
    "df['lost_reason'].value_counts()"
   ]
  },
  {
   "cell_type": "code",
   "execution_count": 24,
   "id": "5dff2092",
   "metadata": {},
   "outputs": [],
   "source": [
    "# convert \"budget_inweek\" as \"int\" data type\n",
    "df['budget_inweek']=df['budget_inweek'].astype('int64')\n",
    "\n",
    "# convert \"movein\" to datetime datatype\n",
    "df['movein']=pd.to_datetime(df.movein)"
   ]
  },
  {
   "cell_type": "code",
   "execution_count": 25,
   "id": "29285bfc",
   "metadata": {},
   "outputs": [],
   "source": [
    "# add the columns- month,day,hours for the invoice\n",
    "df.insert(loc=7,column='year_month',value=df['movein'].map(lambda x:100*x.year +x.month))\n",
    "df.insert(loc=8,column='month',value=df.movein.dt.month)\n",
    "# +1 to make monday=1...........until sunday=7\n",
    "df.insert(loc=9,column='day',value=(df.movein.dt.dayofweek)+1)"
   ]
  },
  {
   "cell_type": "markdown",
   "id": "dfa61f59",
   "metadata": {},
   "source": [
    "## Data Visualization"
   ]
  },
  {
   "cell_type": "code",
   "execution_count": 26,
   "id": "90e800c4",
   "metadata": {},
   "outputs": [
    {
     "data": {
      "image/png": "[encoded data removed]",
      "text/plain": [
       "<Figure size 1152x432 with 1 Axes>"
      ]
     },
     "metadata": {
      "needs_background": "light"
     },
     "output_type": "display_data"
    }
   ],
   "source": [
    "plt.figure(figsize=[16,6])\n",
    "g=sns.countplot(x='lost_reason',data=df,order=df['lost_reason'].value_counts().index)\n",
    "plt.title('Count plot for Lost Reason')\n",
    "plt.xlabel('Lost reason')\n",
    "plt.ylabel('Count')\n",
    "p=g.set_xticklabels(g.get_xticklabels(),rotation=75)"
   ]
  },
  {
   "cell_type": "code",
   "execution_count": 27,
   "id": "88553b66",
   "metadata": {},
   "outputs": [
    {
     "data": {
      "image/png": "[encoded data removed]",
      "text/plain": [
       "<Figure size 1152x432 with 1 Axes>"
      ]
     },
     "metadata": {
      "needs_background": "light"
     },
     "output_type": "display_data"
    }
   ],
   "source": [
    "plt.figure(figsize=[16,6])\n",
    "g=sns.countplot(x='lease_inweek',data=df,order=df['lease_inweek'].value_counts().index)\n",
    "plt.title('Count plot for Lease in week')\n",
    "plt.xlabel('Lease in week')\n",
    "plt.ylabel('Count')\n",
    "p=g.set_xticklabels(g.get_xticklabels(),rotation=75)"
   ]
  },
  {
   "cell_type": "code",
   "execution_count": 28,
   "id": "90880663",
   "metadata": {},
   "outputs": [
    {
     "data": {
      "text/plain": [
       "<AxesSubplot:title={'center':'Frequency of booking by month'}>"
      ]
     },
     "execution_count": 28,
     "metadata": {},
     "output_type": "execute_result"
    },
    {
     "data": {
      "image/png": "[encoded data removed]",
      "text/plain": [
       "<Figure size 864x432 with 1 Axes>"
      ]
     },
     "metadata": {
      "needs_background": "light"
     },
     "output_type": "display_data"
    }
   ],
   "source": [
    "# number of bookin per month\n",
    "plt.figure(figsize=(12,6))\n",
    "plt.title('Frequency of booking by month',fontsize=20)\n",
    "moveindate=df.groupby(['movein'])['year_month'].unique()\n",
    "moveindate.value_counts().sort_index().plot.bar()"
   ]
  },
  {
   "cell_type": "code",
   "execution_count": 29,
   "id": "25879788",
   "metadata": {},
   "outputs": [
    {
     "data": {
      "text/plain": [
       "<AxesSubplot:title={'center':'Frequency of booking per week day'}>"
      ]
     },
     "execution_count": 29,
     "metadata": {},
     "output_type": "execute_result"
    },
    {
     "data": {
      "image/png": "[encoded data removed]",
      "text/plain": [
       "<Figure size 864x432 with 1 Axes>"
      ]
     },
     "metadata": {
      "needs_background": "light"
     },
     "output_type": "display_data"
    }
   ],
   "source": [
    "# number of bookin per day\n",
    "plt.figure(figsize=(12,6))\n",
    "plt.title('Frequency of booking per week day',fontsize=20)\n",
    "moveindate=df.groupby(['movein'])['day'].unique()\n",
    "moveindate.value_counts().sort_index().plot.bar()"
   ]
  },
  {
   "cell_type": "markdown",
   "id": "6b66b1a6",
   "metadata": {},
   "source": [
    "## Feature Engineering"
   ]
  },
  {
   "cell_type": "code",
   "execution_count": 30,
   "id": "af1ca581",
   "metadata": {},
   "outputs": [],
   "source": [
    "# rename \"status\" values\n",
    "df['status'] = df['status'].map({'WON': 1, 'LOST': 0})"
   ]
  },
  {
   "cell_type": "code",
   "execution_count": 31,
   "id": "a6f23806",
   "metadata": {},
   "outputs": [],
   "source": [
    "# encoding the categorical features\n",
    "\n",
    "from sklearn.preprocessing import LabelEncoder\n",
    "\n",
    "le=LabelEncoder()\n",
    "for cat_var in ['utm_source', 'utm_medium', 'source', 'source_city', 'source_country','des_city', 'des_country', \n",
    "                'lead_id','Agent_id','lease_inweek','lost_reason','room_type']:\n",
    "    df[cat_var]=le.fit_transform(df[cat_var])"
   ]
  },
  {
   "cell_type": "code",
   "execution_count": 32,
   "id": "236d79d7",
   "metadata": {},
   "outputs": [],
   "source": [
    "# drop columns\n",
    "df.drop(columns=['Unnamed: 0','movein','year_month', 'month', 'day'],axis=1,inplace=True)\n"
   ]
  },
  {
   "cell_type": "code",
   "execution_count": 33,
   "id": "384dcb00",
   "metadata": {},
   "outputs": [
    {
     "data": {
      "text/html": [
       "<div>\n",
       "<style scoped>\n",
       "    .dataframe tbody tr th:only-of-type {\n",
       "        vertical-align: middle;\n",
       "    }\n",
       "\n",
       "    .dataframe tbody tr th {\n",
       "        vertical-align: top;\n",
       "    }\n",
       "\n",
       "    .dataframe thead th {\n",
       "        text-align: right;\n",
       "    }\n",
       "</style>\n",
       "<table border=\"1\" class=\"dataframe\">\n",
       "  <thead>\n",
       "    <tr style=\"text-align: right;\">\n",
       "      <th></th>\n",
       "      <th>Agent_id</th>\n",
       "      <th>status</th>\n",
       "      <th>lost_reason</th>\n",
       "      <th>budget_inweek</th>\n",
       "      <th>lease_inweek</th>\n",
       "      <th>source</th>\n",
       "      <th>source_city</th>\n",
       "      <th>source_country</th>\n",
       "      <th>utm_source</th>\n",
       "      <th>utm_medium</th>\n",
       "      <th>des_city</th>\n",
       "      <th>des_country</th>\n",
       "      <th>room_type</th>\n",
       "      <th>lead_id</th>\n",
       "    </tr>\n",
       "  </thead>\n",
       "  <tbody>\n",
       "    <tr>\n",
       "      <th>0</th>\n",
       "      <td>12</td>\n",
       "      <td>0</td>\n",
       "      <td>4</td>\n",
       "      <td>120</td>\n",
       "      <td>5</td>\n",
       "      <td>343</td>\n",
       "      <td>3993</td>\n",
       "      <td>165</td>\n",
       "      <td>5</td>\n",
       "      <td>10</td>\n",
       "      <td>203</td>\n",
       "      <td>8</td>\n",
       "      <td>0</td>\n",
       "      <td>24327</td>\n",
       "    </tr>\n",
       "    <tr>\n",
       "      <th>1</th>\n",
       "      <td>20</td>\n",
       "      <td>0</td>\n",
       "      <td>2</td>\n",
       "      <td>120</td>\n",
       "      <td>5</td>\n",
       "      <td>343</td>\n",
       "      <td>3993</td>\n",
       "      <td>165</td>\n",
       "      <td>5</td>\n",
       "      <td>10</td>\n",
       "      <td>74</td>\n",
       "      <td>8</td>\n",
       "      <td>0</td>\n",
       "      <td>21950</td>\n",
       "    </tr>\n",
       "  </tbody>\n",
       "</table>\n",
       "</div>"
      ],
      "text/plain": [
       "   Agent_id  status  lost_reason  budget_inweek  lease_inweek  source  \\\n",
       "0        12       0            4            120             5     343   \n",
       "1        20       0            2            120             5     343   \n",
       "\n",
       "   source_city  source_country  utm_source  utm_medium  des_city  des_country  \\\n",
       "0         3993             165           5          10       203            8   \n",
       "1         3993             165           5          10        74            8   \n",
       "\n",
       "   room_type  lead_id  \n",
       "0          0    24327  \n",
       "1          0    21950  "
      ]
     },
     "execution_count": 33,
     "metadata": {},
     "output_type": "execute_result"
    }
   ],
   "source": [
    "df.head(2)"
   ]
  },
  {
   "cell_type": "markdown",
   "id": "5671a322",
   "metadata": {},
   "source": [
    "# Model Building"
   ]
  },
  {
   "cell_type": "code",
   "execution_count": 34,
   "id": "f1e4a841",
   "metadata": {},
   "outputs": [],
   "source": [
    "# splitting the dataset in feature and label\n",
    "X=df.drop('status',axis=1)\n",
    "y=df['status']"
   ]
  },
  {
   "cell_type": "code",
   "execution_count": 35,
   "id": "4724ac98",
   "metadata": {},
   "outputs": [],
   "source": [
    "from sklearn.model_selection import train_test_split\n",
    "X_train, X_test, y_train, y_test = train_test_split(X, y, test_size=0.1, random_state=123, stratify=y)"
   ]
  },
  {
   "cell_type": "code",
   "execution_count": 36,
   "id": "77dbeddf",
   "metadata": {},
   "outputs": [
    {
     "name": "stdout",
     "output_type": "stream",
     "text": [
      "{'C': 1.0, 'penalty': 'l1'}\n"
     ]
    }
   ],
   "source": [
    "#Fit logistic model\n",
    "\n",
    "from sklearn.linear_model import LogisticRegression\n",
    "from sklearn.model_selection import GridSearchCV\n",
    "\n",
    "parameters_lr = {'penalty': ['l1', 'l2'], 'C' : np.logspace(-3,3,5,base=10.0)}\n",
    "lr = LogisticRegression(solver='liblinear', random_state=123)\n",
    "\n",
    "lr_cv = GridSearchCV(lr, param_grid=parameters_lr, cv=5, scoring='roc_auc', n_jobs=-1)\n",
    "lr_cv.fit(X_train, y_train)\n",
    "\n",
    "print(lr_cv.best_params_)\n",
    "lr_best = lr_cv.best_estimator_"
   ]
  },
  {
   "cell_type": "code",
   "execution_count": 37,
   "id": "a18c6504",
   "metadata": {},
   "outputs": [
    {
     "name": "stdout",
     "output_type": "stream",
     "text": [
      "{'max_depth': 14, 'min_samples_leaf': 100}\n"
     ]
    }
   ],
   "source": [
    "#Fit random forest classifier w/ hyperparameter tuning\n",
    "\n",
    "from sklearn.ensemble import RandomForestClassifier\n",
    "parameters_rf = {'max_depth':np.arange(6,30,2),'min_samples_leaf':np.arange(100,500,50)}\n",
    "rf = RandomForestClassifier()\n",
    "\n",
    "rf_cv = GridSearchCV(rf, param_grid=parameters_rf, cv=5, scoring='roc_auc', n_jobs=-1)\n",
    "rf_cv.fit(X_train, y_train)\n",
    "\n",
    "print(rf_cv.best_params_)\n",
    "rf_best = rf_cv.best_estimator_"
   ]
  },
  {
   "cell_type": "code",
   "execution_count": 39,
   "id": "a06a9ef1",
   "metadata": {},
   "outputs": [
    {
     "data": {
      "image/png": "[encoded data removed]",
      "text/plain": [
       "<Figure size 1152x360 with 2 Axes>"
      ]
     },
     "metadata": {
      "needs_background": "light"
     },
     "output_type": "display_data"
    }
   ],
   "source": [
    "#Plot ROC curve & AUC\n",
    "\n",
    "from sklearn.metrics import plot_roc_curve, confusion_matrix, roc_auc_score\n",
    "from scikitplot.metrics import plot_lift_curve\n",
    "\n",
    "fig, axes = plt.subplots(nrows=1, ncols=2, figsize=(16, 5))\n",
    "models = {'Logistic Regression':lr_best, 'Random Forest Classifier':rf_best}\n",
    "\n",
    "for n,m in models.items():\n",
    "    plot_roc_curve(m, X_test, y_test, ax=axes[list(models.keys()).index(n)])\n",
    "    plt.sca(axes[list(models.keys()).index(n)])\n",
    "    plt.title('ROC Curve - ' + n)"
   ]
  },
  {
   "cell_type": "code",
   "execution_count": 40,
   "id": "3fcae90d",
   "metadata": {},
   "outputs": [
    {
     "name": "stdout",
     "output_type": "stream",
     "text": [
      "Logistic Regression - AUC (training set): 0.9208354797942713\n",
      "Logistic Regression - AUC (test set): 0.9263218978826727\n"
     ]
    }
   ],
   "source": [
    "#Compute AUC score on training & test data for the Logistic Regression model\n",
    "print('Logistic Regression - AUC (training set):', roc_auc_score(y_train, lr_best.predict_proba(X_train)[:,1]))\n",
    "print('Logistic Regression - AUC (test set):', roc_auc_score(y_test, lr_best.predict_proba(X_test)[:,1]))"
   ]
  },
  {
   "cell_type": "code",
   "execution_count": 41,
   "id": "365cf700",
   "metadata": {},
   "outputs": [
    {
     "name": "stdout",
     "output_type": "stream",
     "text": [
      "Random Forest Classifier - AUC (training set): 0.9933075136676841\n",
      "Random Forest Classifier - AUC (test set): 0.9938243985126024\n"
     ]
    }
   ],
   "source": [
    "#Compute AUC score on training & test data for the Random Forest Classifier model\n",
    "print('Random Forest Classifier - AUC (training set):', roc_auc_score(y_train, rf_best.predict_proba(X_train)[:,1]))\n",
    "print('Random Forest Classifier - AUC (test set):', roc_auc_score(y_test, rf_best.predict_proba(X_test)[:,1]))"
   ]
  },
  {
   "cell_type": "code",
   "execution_count": 42,
   "id": "c59389f1",
   "metadata": {},
   "outputs": [
    {
     "data": {
      "image/png": "[encoded data removed]",
      "text/plain": [
       "<Figure size 1152x360 with 2 Axes>"
      ]
     },
     "metadata": {
      "needs_background": "light"
     },
     "output_type": "display_data"
    }
   ],
   "source": [
    "#Plot histogram of lead scores by Converted\n",
    "fig, axes = plt.subplots(nrows=1, ncols=2, figsize=(16, 5))\n",
    "\n",
    "for n,m in models.items():\n",
    "    sns.histplot(x=m.predict_proba(X_test)[:,1], hue=y_test, ax=axes[list(models.keys()).index(n)], bins=20)\n",
    "    plt.sca(axes[list(models.keys()).index(n)])\n",
    "    plt.title('Lead Score Distribution by status - ' + n)\n",
    "    plt.xlabel('Lead Scores')"
   ]
  },
  {
   "cell_type": "code",
   "execution_count": 47,
   "id": "c1010c81",
   "metadata": {},
   "outputs": [
    {
     "data": {
      "text/html": [
       "<div>\n",
       "<style scoped>\n",
       "    .dataframe tbody tr th:only-of-type {\n",
       "        vertical-align: middle;\n",
       "    }\n",
       "\n",
       "    .dataframe tbody tr th {\n",
       "        vertical-align: top;\n",
       "    }\n",
       "\n",
       "    .dataframe thead th {\n",
       "        text-align: right;\n",
       "    }\n",
       "</style>\n",
       "<table border=\"1\" class=\"dataframe\">\n",
       "  <thead>\n",
       "    <tr style=\"text-align: right;\">\n",
       "      <th></th>\n",
       "      <th>precision</th>\n",
       "      <th>recall</th>\n",
       "      <th>f1-score</th>\n",
       "      <th>support</th>\n",
       "    </tr>\n",
       "  </thead>\n",
       "  <tbody>\n",
       "    <tr>\n",
       "      <th>0</th>\n",
       "      <td>0.933681</td>\n",
       "      <td>1.000000</td>\n",
       "      <td>0.965703</td>\n",
       "      <td>4294.000000</td>\n",
       "    </tr>\n",
       "    <tr>\n",
       "      <th>1</th>\n",
       "      <td>0.000000</td>\n",
       "      <td>0.000000</td>\n",
       "      <td>0.000000</td>\n",
       "      <td>305.000000</td>\n",
       "    </tr>\n",
       "    <tr>\n",
       "      <th>accuracy</th>\n",
       "      <td>0.933681</td>\n",
       "      <td>0.933681</td>\n",
       "      <td>0.933681</td>\n",
       "      <td>0.933681</td>\n",
       "    </tr>\n",
       "    <tr>\n",
       "      <th>macro avg</th>\n",
       "      <td>0.466841</td>\n",
       "      <td>0.500000</td>\n",
       "      <td>0.482852</td>\n",
       "      <td>4599.000000</td>\n",
       "    </tr>\n",
       "    <tr>\n",
       "      <th>weighted avg</th>\n",
       "      <td>0.871761</td>\n",
       "      <td>0.933681</td>\n",
       "      <td>0.901659</td>\n",
       "      <td>4599.000000</td>\n",
       "    </tr>\n",
       "  </tbody>\n",
       "</table>\n",
       "</div>"
      ],
      "text/plain": [
       "              precision    recall  f1-score      support\n",
       "0              0.933681  1.000000  0.965703  4294.000000\n",
       "1              0.000000  0.000000  0.000000   305.000000\n",
       "accuracy       0.933681  0.933681  0.933681     0.933681\n",
       "macro avg      0.466841  0.500000  0.482852  4599.000000\n",
       "weighted avg   0.871761  0.933681  0.901659  4599.000000"
      ]
     },
     "execution_count": 47,
     "metadata": {},
     "output_type": "execute_result"
    }
   ],
   "source": [
    "# Logistic classification report\n",
    "\n",
    "from sklearn.metrics import classification_report\n",
    "lr.fit(X_train,y_train)\n",
    "lr_pred=lr.predict(X_test)\n",
    "report=classification_report(y_test, lr_pred, output_dict=True)\n",
    "lr_report = pd.DataFrame(report).transpose()\n",
    "lr_report"
   ]
  },
  {
   "cell_type": "code",
   "execution_count": 49,
   "id": "11b88d2e",
   "metadata": {},
   "outputs": [
    {
     "data": {
      "text/html": [
       "<div>\n",
       "<style scoped>\n",
       "    .dataframe tbody tr th:only-of-type {\n",
       "        vertical-align: middle;\n",
       "    }\n",
       "\n",
       "    .dataframe tbody tr th {\n",
       "        vertical-align: top;\n",
       "    }\n",
       "\n",
       "    .dataframe thead th {\n",
       "        text-align: right;\n",
       "    }\n",
       "</style>\n",
       "<table border=\"1\" class=\"dataframe\">\n",
       "  <thead>\n",
       "    <tr style=\"text-align: right;\">\n",
       "      <th></th>\n",
       "      <th>precision</th>\n",
       "      <th>recall</th>\n",
       "      <th>f1-score</th>\n",
       "      <th>support</th>\n",
       "    </tr>\n",
       "  </thead>\n",
       "  <tbody>\n",
       "    <tr>\n",
       "      <th>0</th>\n",
       "      <td>0.990700</td>\n",
       "      <td>0.992315</td>\n",
       "      <td>0.991507</td>\n",
       "      <td>4294.000000</td>\n",
       "    </tr>\n",
       "    <tr>\n",
       "      <th>1</th>\n",
       "      <td>0.889262</td>\n",
       "      <td>0.868852</td>\n",
       "      <td>0.878939</td>\n",
       "      <td>305.000000</td>\n",
       "    </tr>\n",
       "    <tr>\n",
       "      <th>accuracy</th>\n",
       "      <td>0.984127</td>\n",
       "      <td>0.984127</td>\n",
       "      <td>0.984127</td>\n",
       "      <td>0.984127</td>\n",
       "    </tr>\n",
       "    <tr>\n",
       "      <th>macro avg</th>\n",
       "      <td>0.939981</td>\n",
       "      <td>0.930584</td>\n",
       "      <td>0.935223</td>\n",
       "      <td>4599.000000</td>\n",
       "    </tr>\n",
       "    <tr>\n",
       "      <th>weighted avg</th>\n",
       "      <td>0.983973</td>\n",
       "      <td>0.984127</td>\n",
       "      <td>0.984041</td>\n",
       "      <td>4599.000000</td>\n",
       "    </tr>\n",
       "  </tbody>\n",
       "</table>\n",
       "</div>"
      ],
      "text/plain": [
       "              precision    recall  f1-score      support\n",
       "0              0.990700  0.992315  0.991507  4294.000000\n",
       "1              0.889262  0.868852  0.878939   305.000000\n",
       "accuracy       0.984127  0.984127  0.984127     0.984127\n",
       "macro avg      0.939981  0.930584  0.935223  4599.000000\n",
       "weighted avg   0.983973  0.984127  0.984041  4599.000000"
      ]
     },
     "execution_count": 49,
     "metadata": {},
     "output_type": "execute_result"
    }
   ],
   "source": [
    "# Random Forest Classification report\n",
    "\n",
    "rf.fit(X_train,y_train)\n",
    "rf_pred=rf.predict(X_test)\n",
    "report=classification_report(y_test, rf_pred, output_dict=True)\n",
    "rf_report = pd.DataFrame(report).transpose()\n",
    "rf_report"
   ]
  },
  {
   "cell_type": "markdown",
   "id": "66ae1aef",
   "metadata": {},
   "source": [
    "**From the above result, RandomForestClassififer model performed well**"
   ]
  }
 ],
 "metadata": {
  "anaconda-cloud": {},
  "kernelspec": {
   "display_name": "Python 3 (ipykernel)",
   "language": "python",
   "name": "python3"
  },
  "language_info": {
   "codemirror_mode": {
    "name": "ipython",
    "version": 3
   },
   "file_extension": ".py",
   "mimetype": "text/x-python",
   "name": "python",
   "nbconvert_exporter": "python",
   "pygments_lexer": "ipython3",
   "version": "3.9.5"
  }
 },
 "nbformat": 4,
 "nbformat_minor": 5
}
